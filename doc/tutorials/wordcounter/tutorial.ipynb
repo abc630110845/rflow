{
 "cells": [
  {
   "cell_type": "markdown",
   "metadata": {},
   "source": [
    "# Tutorial: How to Create Workflows with RFlow\n",
    "\n",
    "This tutorial shows how the RFlow module can help to develop scientific-computational experiments.\n",
    "\n",
    "Consider the hypothetical routine of computing the frequency of words from a text file. It is a simplification of a typical stage in machine learning, natural language processing, or even bioinformatics. Although simple, it summarizes two practical problems addressed by researchers:\n",
    "\n",
    "* How to reproduce and share experiments.\n",
    "* How to do experiments based on interchangeable parts.\n",
    "\n",
    "In this example, the first step taken by many developers would to start with the main logic for counting:"
   ]
  },
  {
   "cell_type": "code",
   "execution_count": 1,
   "metadata": {},
   "outputs": [],
   "source": [
    "def compute_word_freq(input_filepath):\n",
    "    \"\"\"Compute word frequency from a input text file.\n",
    "    \n",
    "    Args:\n",
    "        input_filepath (str): Input text file path.\n",
    "           \n",
    "    Returns:\n",
    "        Dict[str: int]: Each key is a word, and its \n",
    "         values are their frequency.\n",
    "    \"\"\"\n",
    "\n",
    "    word_freq = {}\n",
    "\n",
    "    # Count the words\n",
    "    with open(input_filepath, 'r') as stream:\n",
    "        for line in stream:\n",
    "            for word in line.split():\n",
    "                word_freq[word] = word_freq.get(word, 0) + 1\n",
    "\n",
    "    return word_freq"
   ]
  },
  {
   "cell_type": "markdown",
   "metadata": {},
   "source": [
    "The above function returns a dictionary with the count of every word. It's run as follows on the `big-text.txt` text file:"
   ]
  },
  {
   "cell_type": "code",
   "execution_count": 2,
   "metadata": {},
   "outputs": [],
   "source": [
    "word_freq = compute_word_freq('big-text.txt')"
   ]
  },
  {
   "cell_type": "markdown",
   "metadata": {},
   "source": [
    "An essential part of any experimentation is visualizing stage results. A researcher could write the following code to show the `K` most frequent words:"
   ]
  },
  {
   "cell_type": "code",
   "execution_count": 3,
   "metadata": {},
   "outputs": [],
   "source": [
    "def print_kmost(word_freq, K=5):\n",
    "    \"\"\"Prints the K most frequent words.\n",
    "    \n",
    "    Args:\n",
    "        word_freq (Dict[str: int]): Each key is a word, \n",
    "         and its values are its counting.\n",
    "        K (int): Specify how many words to show.\n",
    "    \"\"\"\n",
    "\n",
    "    ordered_words = sorted(word_freq.items(),\n",
    "                           key=lambda item: item[1],\n",
    "                           reverse=True)\n",
    "    for i, (word, count) in enumerate(ordered_words):\n",
    "        if i == K:\n",
    "            break\n",
    "        print('{}-nth word: \"{}\" happens {} times'.format(\n",
    "              i, word, count))\n"
   ]
  },
  {
   "cell_type": "markdown",
   "metadata": {},
   "source": [
    "Then the complete code of this small experiment becomes:"
   ]
  },
  {
   "cell_type": "code",
   "execution_count": 4,
   "metadata": {},
   "outputs": [
    {
     "name": "stdout",
     "output_type": "stream",
     "text": [
      "0-nth word: \"the\" happens 71744 times\n",
      "1-nth word: \"of\" happens 39169 times\n",
      "2-nth word: \"and\" happens 35968 times\n",
      "3-nth word: \"to\" happens 27895 times\n",
      "4-nth word: \"a\" happens 19811 times\n",
      "5-nth word: \"in\" happens 19515 times\n",
      "6-nth word: \"that\" happens 11216 times\n",
      "7-nth word: \"was\" happens 11129 times\n",
      "8-nth word: \"his\" happens 9561 times\n",
      "9-nth word: \"he\" happens 9362 times\n",
      "CPU times: user 434 ms, sys: 12.1 ms, total: 446 ms\n",
      "Wall time: 445 ms\n"
     ]
    }
   ],
   "source": [
    "%%time\n",
    "word_freq = compute_word_freq('big-text.txt')\n",
    "print_kmost(word_freq, K=10)"
   ]
  },
  {
   "cell_type": "markdown",
   "metadata": {},
   "source": [
    "Actual experiments, as typically found in Deep Learning or Big-data, may take hours or days.\n",
    "\n",
    "In order not to perform processing unnecessarily, a common strategy is to leave the experiment reentrant. That is, saving intermediate results in files, and load them in future executions.\n",
    "\n",
    "Continuing with this idea, routines to save and load data can be like this:"
   ]
  },
  {
   "cell_type": "code",
   "execution_count": 5,
   "metadata": {},
   "outputs": [],
   "source": [
    "def save_freq(word_freq, output_filepath):    \n",
    "    with open(output_filepath, 'w') as stream:\n",
    "        for word, cont in word_freq.items():\n",
    "            stream.write('{} {}\\n'.format(word, cont))\n",
    "            \n",
    "def load_freq(input_filepath):\n",
    "    with open(input_filepath, 'r') as stream:\n",
    "        word_freq = {}\n",
    "        for line in stream:\n",
    "            word, cont = line.split()\n",
    "            word_freq[word] = int(cont)\n",
    "    return word_freq"
   ]
  },
  {
   "cell_type": "markdown",
   "metadata": {},
   "source": [
    "The naive way of joining the steps is to check for the existence of the generated files manually:"
   ]
  },
  {
   "cell_type": "code",
   "execution_count": 6,
   "metadata": {},
   "outputs": [],
   "source": [
    "import os\n",
    "\n",
    "def exp1():\n",
    "    if not os.path.exists(\"big-text-freq.txt\"):\n",
    "        word_freq = compute_word_freq(\"big-text.txt\")\n",
    "        save_freq(word_freq, \"big-text-freq.txt\")\n",
    "    else:\n",
    "        word_freq = load_freq(\"big-text-freq.txt\")\n",
    "\n",
    "    print_kmost(word_freq, 10)"
   ]
  },
  {
   "cell_type": "code",
   "execution_count": 7,
   "metadata": {},
   "outputs": [],
   "source": [
    "# For demonstration pruposes, assure that \n",
    "# the frequency file doesn't exists.\n",
    "import os\n",
    "\n",
    "if os.path.exists('big-text-freq.txt'):\n",
    "    os.remove('big-text-freq.txt')"
   ]
  },
  {
   "cell_type": "code",
   "execution_count": 8,
   "metadata": {},
   "outputs": [
    {
     "name": "stdout",
     "output_type": "stream",
     "text": [
      "0-nth word: \"the\" happens 71744 times\n",
      "1-nth word: \"of\" happens 39169 times\n",
      "2-nth word: \"and\" happens 35968 times\n",
      "3-nth word: \"to\" happens 27895 times\n",
      "4-nth word: \"a\" happens 19811 times\n",
      "5-nth word: \"in\" happens 19515 times\n",
      "6-nth word: \"that\" happens 11216 times\n",
      "7-nth word: \"was\" happens 11129 times\n",
      "8-nth word: \"his\" happens 9561 times\n",
      "9-nth word: \"he\" happens 9362 times\n",
      "CPU times: user 481 ms, sys: 16.4 ms, total: 497 ms\n",
      "Wall time: 489 ms\n"
     ]
    }
   ],
   "source": [
    "%%time\n",
    "exp1()"
   ]
  },
  {
   "cell_type": "markdown",
   "metadata": {},
   "source": [
    "Now rerunning the experiment, the processing time will undergo a drastic reduction:"
   ]
  },
  {
   "cell_type": "code",
   "execution_count": 9,
   "metadata": {},
   "outputs": [
    {
     "name": "stdout",
     "output_type": "stream",
     "text": [
      "0-nth word: \"the\" happens 71744 times\n",
      "1-nth word: \"of\" happens 39169 times\n",
      "2-nth word: \"and\" happens 35968 times\n",
      "3-nth word: \"to\" happens 27895 times\n",
      "4-nth word: \"a\" happens 19811 times\n",
      "5-nth word: \"in\" happens 19515 times\n",
      "6-nth word: \"that\" happens 11216 times\n",
      "7-nth word: \"was\" happens 11129 times\n",
      "8-nth word: \"his\" happens 9561 times\n",
      "9-nth word: \"he\" happens 9362 times\n",
      "CPU times: user 87.2 ms, sys: 12 ms, total: 99.2 ms\n",
      "Wall time: 95.8 ms\n"
     ]
    }
   ],
   "source": [
    "%%time\n",
    "exp1()"
   ]
  },
  {
   "cell_type": "markdown",
   "metadata": {},
   "source": [
    "Note that reading the results of a file was at least 2 times faster than re-computing again.\n",
    "\n",
    "However, actual experiments contain multiple stages, and it would not be productive to repeat the reentrant logic code every time. More importantly, if parameters changes, then the affected parts or dependencies need to be rerun. For example, `compute_word_freq` stage depends on the data of 'big.txt'. Dependency means that if the file \"big.txt\" is modified, then the count must be (re)done even if its intermediary exists.\n",
    "\n",
    "Tools like Make, Luigi, Weka, and our RFlow, encapsulate this check by modeling experiment as a direct acyclic graph (DAG). With experiments being viewed as graphs, the computations and data become the nodes, and their dependencies become the edges.\n",
    "\n",
    "RFlow also represents experiments as DAG. We'll start a graph with RFlow; then we'll define a node for computing word frequencies, and add it to the DAG. \n",
    "\n",
    "One way to get a DAG object is to call `rflow.get_graph`:"
   ]
  },
  {
   "cell_type": "code",
   "execution_count": 10,
   "metadata": {},
   "outputs": [],
   "source": [
    "import rflow\n",
    "exp1 = rflow.get_graph('exp1')"
   ]
  },
  {
   "cell_type": "markdown",
   "metadata": {},
   "source": [
    "This will create a DAG named `'exp1'`. On RFlow, any DAG can be retrieved from the `get_graph` function.\n",
    "\n",
    "To define nodes, users should inherit from the class `rflow.Interface`. The derived classes must implement a `evaluate()` function, and a optional `load()`. The first one is where the main logic should put, and save its intermediary results. The second one, `load()`, should keep the node reentrant, by loading the previously computed value. \n",
    "\n",
    "The node type `WordFrequency` will carry previous word frequency functionality of computing and load:"
   ]
  },
  {
   "cell_type": "code",
   "execution_count": 11,
   "metadata": {},
   "outputs": [],
   "source": [
    "class WordFrequency(rflow.Interface):\n",
    "    \"\"\"Compute word frequencies from a input text file.\n",
    "    \"\"\"\n",
    "\n",
    "    def evaluate(self, resource, input_resource):\n",
    "        \"\"\"Args:\n",
    "\n",
    "            resource (skrkit.workflow.FSResource): Reentrancy checkpoint. \n",
    "\n",
    "            input_resource (skrkit.workflow.FSResource): Resource pointing to \n",
    "                the input text file path.\n",
    "             \n",
    "        Returns:\n",
    "            Dict[str: int]: Each key is a word, and values are its\n",
    "             counting.\n",
    "        \"\"\"\n",
    "        \n",
    "        word_freq = compute_word_freq(input_resource.filepath)        \n",
    "        save_freq(word_freq, resource.filepath)\n",
    "        return word_freq\n",
    "\n",
    "    def load(self, resource):\n",
    "        \"\"\"Loads the data from previous `evaluate()` call.\n",
    "\n",
    "        Args:\n",
    "            resource (skrkit.workflow.FSResource): Reentrancy checkpoint. \n",
    "\n",
    "        Returns:\n",
    "            Dict[str: int]: Each key is a word, and values are its\n",
    "             counting.\n",
    "        \"\"\"\n",
    "\n",
    "        return load_freq(resource.filepath)\n"
   ]
  },
  {
   "cell_type": "markdown",
   "metadata": {},
   "source": [
    "The above code needs some clarications.\n",
    "    \n",
    "As early stated, RFlow can track changes of nodes inputs. To track changes that occur inside external entities such files or database entry, RFlow provides classes derived from `rflow.Resource` which encapsulates existence testing and content representation. \n",
    "\n",
    "The `evaluate()` function, calls the main logic and save the results. Node's `evaluate()` function may take any number of arguments. In the above case, it accepts two arguments: `resource` and `input_resource`. The `resource` name is a special one for RFlow. Arguments named as this are expected to be a `Resource` type. It tells to RFlow that the node is reentrant, and its value must refer to an intermediary checkpoint destination. The code refers to a `filepath` attribute, meaning that `WordFrequency` expects a file system resource - a `rflow.FSResource` instance.\n",
    "\n",
    "The second argument is also expected to be a `rflow.FSResource`. So RFlow will detect changes on the file content, and rerun the `evaluate()` if they occur.\n",
    "\n",
    "The `load()` function is called whatever RFlow judges that no alteration occurred to the node's inputs. So it can be loaded.\n",
    "\n",
    "Until now, only the node definition were shown. To put the class into use, it must be instantiated and added to a DAG:"
   ]
  },
  {
   "cell_type": "code",
   "execution_count": 12,
   "metadata": {},
   "outputs": [],
   "source": [
    "exp1.word_freq = WordFrequency(rflow.FSResource('big-text-freq.txt'))"
   ]
  },
  {
   "cell_type": "markdown",
   "metadata": {},
   "source": [
    "A node is added by instancing and assigning it to a DAG attribute. For those not familiar with Python, new attributes can be added to an object on the fly. Every instanced node have a unique name given by its attribute name, as `word_freq` in the previous line. This name can be referenced to invoke it from command-line.\n",
    "\n",
    "The constructor argument, `rflow.FSResource('big-text-freq.txt')`, is the `resource` argument value. The `resource` parameter is so special that it be can passed directly on the constructor. Following its node definition, it's a file system resource.\n",
    "\n",
    "Other arguments are assigned to nodes by using its `.args` attribute. By reflection, RFlow fills `.args` with attributes named after each  `evaluate()` arguments. For example, to set `input_resource` pointing to the 'big-text.txt' file system resource:"
   ]
  },
  {
   "cell_type": "code",
   "execution_count": 13,
   "metadata": {},
   "outputs": [],
   "source": [
    "exp1.word_freq.args.input_resource = rflow.FSResource('big-text.txt')"
   ]
  },
  {
   "cell_type": "markdown",
   "metadata": {},
   "source": [
    "To execute any node, invoke its `call()` method instead of `evaluate()` or `load()`. This function will verify the reentracy conditions, and use the appropiate method:"
   ]
  },
  {
   "cell_type": "code",
   "execution_count": 14,
   "metadata": {},
   "outputs": [
    {
     "name": "stdout",
     "output_type": "stream",
     "text": [
      "\u001b[32mRUN  exp1:word_freq\n",
      "\u001b[0m^\u001b[32mexp1:word_freq\n",
      "\u001b[0m"
     ]
    }
   ],
   "source": [
    "word_freq = exp1.word_freq.call()"
   ]
  },
  {
   "cell_type": "markdown",
   "metadata": {},
   "source": [
    "The `call()` method returns the same as `evaluate()` (or `load()`). \n",
    "\n",
    "Let's keep building the rest of the experiment, now by defining a node to show words."
   ]
  },
  {
   "cell_type": "code",
   "execution_count": 15,
   "metadata": {},
   "outputs": [],
   "source": [
    "class PrintKMost(rflow.Interface):\n",
    "    \"\"\"Prints the K most frequent words.    \n",
    "    \"\"\"\n",
    "\n",
    "    def evaluate(self, word_freq, K):   \n",
    "        \"\"\"Args:\n",
    "        word_freq (Dict[str: int]): Each key is a word, \n",
    "         and its values are their frequency.\n",
    "         \n",
    "        K (int): Specify how many words to show.\n",
    "        \"\"\" \n",
    "\n",
    "        ordered_words = sorted(word_freq.items(),\n",
    "                               key=lambda item: item[1],\n",
    "                               reverse=True)\n",
    "        for i, (word, count) in enumerate(ordered_words):\n",
    "            if i == K:\n",
    "                break\n",
    "            print('{}-nth word: \"{}\" happens {} times'.format(\n",
    "                  i, word, count))"
   ]
  },
  {
   "cell_type": "markdown",
   "metadata": {},
   "source": [
    "The `PrintKMost` node is a simpler one. As it doesn't produce any intermediary results, so no do need to have a `resource` argument. Differently from the `WordFrequency`, it accepts common python object like the `word_freq` dict or the `K` integer.  \n",
    "\n",
    "Adding to the graph:"
   ]
  },
  {
   "cell_type": "code",
   "execution_count": 16,
   "metadata": {},
   "outputs": [],
   "source": [
    "exp1.kmost_freq = PrintKMost()\n",
    "with exp1.kmost_freq as args:    \n",
    "    args.word_freq = exp1.word_freq\n",
    "    args.K = 10"
   ]
  },
  {
   "cell_type": "markdown",
   "metadata": {},
   "source": [
    "As a shortcut to `args` attribute, users may use the `with` statement to not repeat the `graph.vertice.args.` pattern. \n",
    "\n",
    "When setting `args.word_freq = exp1.word_freq` argument, we create a edge from the `exp1.word_freq` node to `exp1.kmost_freq`.  The return value of `exp1.word_freq` will be send to the `word_freq` argument of `kmost_freq`. The `K` argument was set to a constant value.\n",
    "\n",
    "Like for `word_freq`, the `kmost_freq` is executed with `call()`. Besides checking reentrancy, the call method resolves dependency call, executing only the need nodes."
   ]
  },
  {
   "cell_type": "code",
   "execution_count": 17,
   "metadata": {},
   "outputs": [
    {
     "name": "stdout",
     "output_type": "stream",
     "text": [
      "\u001b[32mRUN  exp1:kmost_freq\n",
      "\u001b[0m0-nth word: \"the\" happens 71744 times\n",
      "1-nth word: \"of\" happens 39169 times\n",
      "2-nth word: \"and\" happens 35968 times\n",
      "3-nth word: \"to\" happens 27895 times\n",
      "4-nth word: \"a\" happens 19811 times\n",
      "5-nth word: \"in\" happens 19515 times\n",
      "6-nth word: \"that\" happens 11216 times\n",
      "7-nth word: \"was\" happens 11129 times\n",
      "8-nth word: \"his\" happens 9561 times\n",
      "9-nth word: \"he\" happens 9362 times\n",
      "^\u001b[32mexp1:kmost_freq\n",
      "\u001b[0m"
     ]
    }
   ],
   "source": [
    "exp1.kmost_freq.call()"
   ]
  },
  {
   "cell_type": "markdown",
   "metadata": {},
   "source": [
    "In that call, `exp1.word_freq` was evaluated. The next example will clean the middle node, and rerun:"
   ]
  },
  {
   "cell_type": "code",
   "execution_count": 18,
   "metadata": {},
   "outputs": [
    {
     "name": "stdout",
     "output_type": "stream",
     "text": [
      "Removing resource big-text-freq.txt\n",
      "\u001b[32mRUN  exp1:kmost_freq\n",
      "\u001b[0m.\u001b[33mRUN  exp1:word_freq\n",
      "\u001b[0m.^\u001b[33mexp1:word_freq\n",
      "\u001b[0m0-nth word: \"the\" happens 71744 times\n",
      "1-nth word: \"of\" happens 39169 times\n",
      "2-nth word: \"and\" happens 35968 times\n",
      "3-nth word: \"to\" happens 27895 times\n",
      "4-nth word: \"a\" happens 19811 times\n",
      "5-nth word: \"in\" happens 19515 times\n",
      "6-nth word: \"that\" happens 11216 times\n",
      "7-nth word: \"was\" happens 11129 times\n",
      "8-nth word: \"his\" happens 9561 times\n",
      "9-nth word: \"he\" happens 9362 times\n",
      "^\u001b[32mexp1:kmost_freq\n",
      "\u001b[0m"
     ]
    }
   ],
   "source": [
    "exp1.word_freq.clear()\n",
    "exp1.kmost_freq.call()"
   ]
  },
  {
   "cell_type": "markdown",
   "metadata": {},
   "source": [
    "Executing it again:"
   ]
  },
  {
   "cell_type": "code",
   "execution_count": 19,
   "metadata": {},
   "outputs": [
    {
     "name": "stdout",
     "output_type": "stream",
     "text": [
      "\u001b[32mRUN  exp1:kmost_freq\n",
      "\u001b[0m0-nth word: \"the\" happens 71744 times\n",
      "1-nth word: \"of\" happens 39169 times\n",
      "2-nth word: \"and\" happens 35968 times\n",
      "3-nth word: \"to\" happens 27895 times\n",
      "4-nth word: \"a\" happens 19811 times\n",
      "5-nth word: \"in\" happens 19515 times\n",
      "6-nth word: \"that\" happens 11216 times\n",
      "7-nth word: \"was\" happens 11129 times\n",
      "8-nth word: \"his\" happens 9561 times\n",
      "9-nth word: \"he\" happens 9362 times\n",
      "^\u001b[32mexp1:kmost_freq\n",
      "\u001b[0m"
     ]
    }
   ],
   "source": [
    "# RFlow caches previous values. \n",
    "# Use `redo=True` to force the call\n",
    "# node execution\n",
    "exp1.kmost_freq.call(redo=True)"
   ]
  },
  {
   "cell_type": "markdown",
   "metadata": {},
   "source": [
    "### The `.args` value restrictions\n",
    "\n",
    "RFlow writes all arguments to a database, so every node instance has a signature of its previous call. If the signature matches with the stored one, the node is considered updated. However, constant values such `kmost_freq.args.K = 10` must have two restrictions:\n",
    "\n",
    "* Must be serializable with `pickle`;\n",
    "* Must have a `__equal__` implementation.\n",
    "\n",
    "Those two restrictions are needed to compare and write the signatures. Suppose that we're using the following `Uncomparable` class, that does not have a `__eq__` method:\n"
   ]
  },
  {
   "cell_type": "code",
   "execution_count": 20,
   "metadata": {},
   "outputs": [],
   "source": [
    "class Uncomparable:\n",
    "    def __init__(self, a):\n",
    "        self.a = a\n",
    "\n",
    "    def __str__(self):\n",
    "        return str(self.a)                "
   ]
  },
  {
   "cell_type": "markdown",
   "metadata": {},
   "source": [
    "Uncomparable objects happens mostly with C/C++ wrappers or too big to compare objects. If we try to add to the following DAG:"
   ]
  },
  {
   "cell_type": "code",
   "execution_count": 21,
   "metadata": {
    "tags": [
     "raises-exception"
    ]
   },
   "outputs": [
    {
     "name": "stdout",
     "output_type": "stream",
     "text": [
      "Error: Assigning a non equalable value that is not derived from BaseNode or Resource\n"
     ]
    }
   ],
   "source": [
    "class Print(rflow.Interface):\n",
    "    def evaluate(self, obj):\n",
    "        print(obj)\n",
    "        \n",
    "ta = rflow.get_graph('test-args', overwrite=True)\n",
    "ta.print_const = Print()\n",
    "try:\n",
    "    ta.print_const.args.obj = Uncomparable(4)\n",
    "except rflow.WorkflowError as error:\n",
    "    print(\"Error: {}\".format(error))"
   ]
  },
  {
   "cell_type": "markdown",
   "metadata": {},
   "source": [
    "An error is raised because `Uncomparable` does not have a `__eq__` override. \n",
    "\n",
    "To actually add it to a graph is necessary to encapsulate inside a node, so RFlow can compare its signature. \n",
    "\n",
    "One way is to use the `rflow.VarNode` class:"
   ]
  },
  {
   "cell_type": "code",
   "execution_count": 22,
   "metadata": {},
   "outputs": [],
   "source": [
    "ta.print_const.args.obj = rflow.VarNode(Uncomparable(4))"
   ]
  },
  {
   "cell_type": "markdown",
   "metadata": {},
   "source": [
    "As a downside,  `Uncomparable` will always be created. To overcome this, we can create a node to initialize it:"
   ]
  },
  {
   "cell_type": "code",
   "execution_count": 23,
   "metadata": {},
   "outputs": [],
   "source": [
    "class GetUncomparable(rflow.Interface):\n",
    "    def evaluate(self, int_value):\n",
    "        return Uncomparable(int_value)\n",
    "    \n",
    "ta.get_uncomp = GetUncomparable()\n",
    "ta.get_uncomp.args.int_value = 4\n",
    "\n",
    "ta.print_const.args.obj = ta.get_uncomp"
   ]
  },
  {
   "cell_type": "code",
   "execution_count": 24,
   "metadata": {},
   "outputs": [
    {
     "name": "stdout",
     "output_type": "stream",
     "text": [
      "\u001b[32mRUN  test-args:print_const\n",
      "\u001b[0m.\u001b[33mRUN  test-args:get_uncomp\n",
      "\u001b[0m.^\u001b[33mtest-args:get_uncomp\n",
      "\u001b[0m4\n",
      "^\u001b[32mtest-args:print_const\n",
      "\u001b[0m"
     ]
    }
   ],
   "source": [
    "ta.print_const.call()"
   ]
  },
  {
   "cell_type": "markdown",
   "metadata": {},
   "source": [
    "The later way advantage is that the construction arguments are tracked."
   ]
  },
  {
   "cell_type": "markdown",
   "metadata": {},
   "source": [
    "## Viewing Graphs\n",
    "\n",
    "RFlow graphs can be view with Graphviz:"
   ]
  },
  {
   "cell_type": "code",
   "execution_count": 25,
   "metadata": {},
   "outputs": [
    {
     "data": {
      "image/svg+xml": [
       "<?xml version=\"1.0\" encoding=\"UTF-8\" standalone=\"no\"?>\n",
       "<!DOCTYPE svg PUBLIC \"-//W3C//DTD SVG 1.1//EN\"\n",
       " \"http://www.w3.org/Graphics/SVG/1.1/DTD/svg11.dtd\">\n",
       "<!-- Generated by graphviz version 2.38.0 (20140413.2041)\n",
       " -->\n",
       "<!-- Title: exp1 Pages: 1 -->\n",
       "<svg width=\"380pt\" height=\"218pt\"\n",
       " viewBox=\"0.00 0.00 380.00 218.00\" xmlns=\"http://www.w3.org/2000/svg\" xmlns:xlink=\"http://www.w3.org/1999/xlink\">\n",
       "<g id=\"graph0\" class=\"graph\" transform=\"scale(1 1) rotate(0) translate(4 214)\">\n",
       "<title>exp1</title>\n",
       "<polygon fill=\"white\" stroke=\"none\" points=\"-4,4 -4,-214 376,-214 376,4 -4,4\"/>\n",
       "<!-- word_freq -->\n",
       "<g id=\"node1\" class=\"node\"><title>word_freq</title>\n",
       "<path fill=\"LightCyan\" stroke=\"black\" d=\"M221.5,-123C221.5,-123 165.5,-123 165.5,-123 159.5,-123 153.5,-117 153.5,-111 153.5,-111 153.5,-99 153.5,-99 153.5,-93 159.5,-87 165.5,-87 165.5,-87 221.5,-87 221.5,-87 227.5,-87 233.5,-93 233.5,-99 233.5,-99 233.5,-111 233.5,-111 233.5,-117 227.5,-123 221.5,-123\"/>\n",
       "<text text-anchor=\"middle\" x=\"193.5\" y=\"-101.3\" font-family=\"Roboto\" font-size=\"14.00\">word_freq</text>\n",
       "</g>\n",
       "<!-- kmost_freq -->\n",
       "<g id=\"node4\" class=\"node\"><title>kmost_freq</title>\n",
       "<path fill=\"LightCyan\" stroke=\"black\" d=\"M169,-36C169,-36 104,-36 104,-36 98,-36 92,-30 92,-24 92,-24 92,-12 92,-12 92,-6 98,-0 104,-0 104,-0 169,-0 169,-0 175,-0 181,-6 181,-12 181,-12 181,-24 181,-24 181,-30 175,-36 169,-36\"/>\n",
       "<text text-anchor=\"middle\" x=\"136.5\" y=\"-14.3\" font-family=\"Roboto\" font-size=\"14.00\">kmost_freq</text>\n",
       "</g>\n",
       "<!-- word_freq&#45;&gt;kmost_freq -->\n",
       "<g id=\"edge3\" class=\"edge\"><title>word_freq&#45;&gt;kmost_freq</title>\n",
       "<path fill=\"none\" stroke=\"black\" d=\"M181.965,-86.799C173.853,-74.7017 162.857,-58.3049 153.712,-44.6665\"/>\n",
       "<polygon fill=\"black\" stroke=\"black\" points=\"156.494,-42.5315 148.018,-36.1754 150.68,-46.4302 156.494,-42.5315\"/>\n",
       "<text text-anchor=\"middle\" x=\"200.5\" y=\"-57.8\" font-family=\"Roboto\" font-size=\"14.00\">word_freq</text>\n",
       "</g>\n",
       "<!-- __xyz0 -->\n",
       "<g id=\"node2\" class=\"node\"><title>__xyz0</title>\n",
       "<polygon fill=\"Beige\" stroke=\"black\" stroke-dasharray=\"1,5\" points=\"191,-210 0,-210 0,-174 191,-174 191,-210\"/>\n",
       "<text text-anchor=\"middle\" x=\"95.5\" y=\"-188.3\" font-family=\"Helvetica,sans-Serif\" font-size=\"14.00\">FSResource(big&#45;text&#45;freq.txt)</text>\n",
       "</g>\n",
       "<!-- __xyz0&#45;&gt;word_freq -->\n",
       "<g id=\"edge1\" class=\"edge\"><title>__xyz0&#45;&gt;word_freq</title>\n",
       "<path fill=\"none\" stroke=\"black\" d=\"M115.332,-173.799C129.943,-161.126 149.995,-143.734 166.132,-129.738\"/>\n",
       "<polygon fill=\"black\" stroke=\"black\" points=\"168.437,-132.372 173.698,-123.175 163.85,-127.084 168.437,-132.372\"/>\n",
       "<text text-anchor=\"middle\" x=\"173.5\" y=\"-144.8\" font-family=\"Times,serif\" font-size=\"14.00\">resource</text>\n",
       "</g>\n",
       "<!-- __xyz1 -->\n",
       "<g id=\"node3\" class=\"node\"><title>__xyz1</title>\n",
       "<polygon fill=\"Beige\" stroke=\"black\" stroke-dasharray=\"1,5\" points=\"372,-210 209,-210 209,-174 372,-174 372,-210\"/>\n",
       "<text text-anchor=\"middle\" x=\"290.5\" y=\"-188.3\" font-family=\"Helvetica,sans-Serif\" font-size=\"14.00\">FSResource(big&#45;text.txt)</text>\n",
       "</g>\n",
       "<!-- __xyz1&#45;&gt;word_freq -->\n",
       "<g id=\"edge2\" class=\"edge\"><title>__xyz1&#45;&gt;word_freq</title>\n",
       "<path fill=\"none\" stroke=\"black\" d=\"M270.871,-173.799C256.54,-161.241 236.921,-144.049 221.025,-130.12\"/>\n",
       "<polygon fill=\"black\" stroke=\"black\" points=\"222.928,-127.134 213.1,-123.175 218.314,-132.398 222.928,-127.134\"/>\n",
       "<text text-anchor=\"middle\" x=\"294.5\" y=\"-144.8\" font-family=\"Roboto\" font-size=\"14.00\">input_resource</text>\n",
       "</g>\n",
       "<!-- __xyz2 -->\n",
       "<g id=\"node5\" class=\"node\"><title>__xyz2</title>\n",
       "<polygon fill=\"Beige\" stroke=\"black\" stroke-dasharray=\"1,5\" points=\"135,-123 80,-123 80,-87 135,-87 135,-123\"/>\n",
       "<text text-anchor=\"middle\" x=\"107.5\" y=\"-101.3\" font-family=\"Helvetica,sans-Serif\" font-size=\"14.00\">int(10)</text>\n",
       "</g>\n",
       "<!-- __xyz2&#45;&gt;kmost_freq -->\n",
       "<g id=\"edge4\" class=\"edge\"><title>__xyz2&#45;&gt;kmost_freq</title>\n",
       "<path fill=\"none\" stroke=\"black\" d=\"M113.369,-86.799C117.378,-75.0474 122.772,-59.2383 127.342,-45.8421\"/>\n",
       "<polygon fill=\"black\" stroke=\"black\" points=\"130.724,-46.7699 130.64,-36.1754 124.099,-44.5096 130.724,-46.7699\"/>\n",
       "<text text-anchor=\"middle\" x=\"129.5\" y=\"-57.8\" font-family=\"Roboto\" font-size=\"14.00\">K</text>\n",
       "</g>\n",
       "</g>\n",
       "</svg>\n"
      ],
      "text/plain": [
       "<graphviz.dot.Digraph at 0x7f5f4d28d6d8>"
      ]
     },
     "execution_count": 25,
     "metadata": {},
     "output_type": "execute_result"
    }
   ],
   "source": [
    "import graphviz\n",
    "import rflow.viz as viz\n",
    "\n",
    "viz.dag2dot(exp1)"
   ]
  },
  {
   "cell_type": "markdown",
   "metadata": {},
   "source": [
    "## Adding more nodes\n",
    "\n",
    "Suppose that a new thesis arrived about random texting counting. Researchers want to base their new experiments on the former base, so they know that are using the same procedures on both thesis.\n",
    "\n",
    "With RFlow, they could define a new graph vertex for generating random text and insert into a new graph.\n",
    "\n",
    "First, the next code will define the random text generator interface:"
   ]
  },
  {
   "cell_type": "code",
   "execution_count": 26,
   "metadata": {},
   "outputs": [],
   "source": [
    "import random\n",
    "\n",
    "class RandomText(rflow.Interface):\n",
    "    \"\"\"Generates random text.\n",
    "    \"\"\"\n",
    "\n",
    "    def evaluate(self, resource, num_of_words, selected_words):\n",
    "        \"\"\"Args:\n",
    "\n",
    "            resource (rflow.FSResource): File resource to \n",
    "             write the random words.\n",
    "\n",
    "            num_of_words (int): How many words to generate.\n",
    "\n",
    "            selected_words (List[str]): Which words to use.\n",
    "        \"\"\"\n",
    "\n",
    "        with open(resource.filepath, 'w') as file_stream:\n",
    "            for i in range(num_of_words):\n",
    "                random_word = random.sample(selected_words, 1)[0]\n",
    "                file_stream.write(random_word)\n",
    "                file_stream.write(' ')\n",
    "\n",
    "    def load(self):\n",
    "        \"\"\"The `load()` method indicates to RFlow that node is reentrant. \n",
    "        As `evaluate()` didn't return anything, we can leave it empty.        \n",
    "        \"\"\"\n",
    "        pass\n"
   ]
  },
  {
   "cell_type": "markdown",
   "metadata": {},
   "source": [
    "Next step will be creating a new graph named `exp2` to hold our new experiment."
   ]
  },
  {
   "cell_type": "code",
   "execution_count": 27,
   "metadata": {},
   "outputs": [],
   "source": [
    "exp2 = rflow.get_graph('exp2', overwrite=True)    "
   ]
  },
  {
   "cell_type": "markdown",
   "metadata": {},
   "source": [
    "The `RandomText` is instantiated with the name `random_text`. It will generate the resource `'random-text.txt'`:"
   ]
  },
  {
   "cell_type": "code",
   "execution_count": 28,
   "metadata": {},
   "outputs": [],
   "source": [
    "exp2.random_text = RandomText(rflow.FSResource('random-text.txt'))"
   ]
  },
  {
   "cell_type": "markdown",
   "metadata": {},
   "source": [
    "According to logic of the interface, it accepts `num_of_words` as how many words to generate, and `selected_words` as which words to use. Let generate 50 words with the classic \"lorem ipsum\" text. The `with` shortcut will be used to set the `exp2.random_text.args` attributes:"
   ]
  },
  {
   "cell_type": "code",
   "execution_count": 29,
   "metadata": {
    "tags": [
     "raises-exception"
    ]
   },
   "outputs": [],
   "source": [
    "with exp2.random_text as args:\n",
    "    args.num_of_words = 50\n",
    "    args.selected_words = [\n",
    "            'lorem', 'ipsum', 'dolor', 'sit', 'amet',\n",
    "            'consectetur', 'adipiscing', 'elit', 'vestibulum',\n",
    "            'non', 'feugiat', 'felis']\n"
   ]
  },
  {
   "cell_type": "markdown",
   "metadata": {},
   "source": [
    "Let connect the `random_text` node to a `WordFrequency` instance."
   ]
  },
  {
   "cell_type": "code",
   "execution_count": 30,
   "metadata": {},
   "outputs": [],
   "source": [
    "exp2.word_freq = WordFrequency(rflow.FSResource('random-text-freq.txt'))\n",
    "exp2.word_freq.args.input_resource = exp2.random_text.resource"
   ]
  },
  {
   "cell_type": "markdown",
   "metadata": {},
   "source": [
    "In exp1, `word_freq` was direct assigned to `kmost_freq.args.word_freq`. In the above code, the assignment is between resource to another resource. Assigning a node's `.resource` is a special case which also generates dependency between nodes.\n",
    "\n",
    "Now reusing the `PrintKMost` viewing node:"
   ]
  },
  {
   "cell_type": "code",
   "execution_count": 31,
   "metadata": {},
   "outputs": [],
   "source": [
    "exp2.kmost_freq = PrintKMost()\n",
    "with exp2.kmost_freq as args:    \n",
    "    args.word_freq = exp2.word_freq\n",
    "    args.K = 10"
   ]
  },
  {
   "cell_type": "markdown",
   "metadata": {},
   "source": [
    "The final DAG becomes:"
   ]
  },
  {
   "cell_type": "code",
   "execution_count": 32,
   "metadata": {},
   "outputs": [
    {
     "data": {
      "image/svg+xml": [
       "<?xml version=\"1.0\" encoding=\"UTF-8\" standalone=\"no\"?>\n",
       "<!DOCTYPE svg PUBLIC \"-//W3C//DTD SVG 1.1//EN\"\n",
       " \"http://www.w3.org/Graphics/SVG/1.1/DTD/svg11.dtd\">\n",
       "<!-- Generated by graphviz version 2.38.0 (20140413.2041)\n",
       " -->\n",
       "<!-- Title: exp2 Pages: 1 -->\n",
       "<svg width=\"585pt\" height=\"322pt\"\n",
       " viewBox=\"0.00 0.00 585.00 322.00\" xmlns=\"http://www.w3.org/2000/svg\" xmlns:xlink=\"http://www.w3.org/1999/xlink\">\n",
       "<g id=\"graph0\" class=\"graph\" transform=\"scale(1 1) rotate(0) translate(4 318)\">\n",
       "<title>exp2</title>\n",
       "<polygon fill=\"white\" stroke=\"none\" points=\"-4,4 -4,-318 581,-318 581,4 -4,4\"/>\n",
       "<!-- random_text -->\n",
       "<g id=\"node1\" class=\"node\"><title>random_text</title>\n",
       "<path fill=\"LightCyan\" stroke=\"black\" d=\"M320,-210C320,-210 249,-210 249,-210 243,-210 237,-204 237,-198 237,-198 237,-186 237,-186 237,-180 243,-174 249,-174 249,-174 320,-174 320,-174 326,-174 332,-180 332,-186 332,-186 332,-198 332,-198 332,-204 326,-210 320,-210\"/>\n",
       "<text text-anchor=\"middle\" x=\"284.5\" y=\"-188.3\" font-family=\"Roboto\" font-size=\"14.00\">random_text</text>\n",
       "</g>\n",
       "<!-- word_freq -->\n",
       "<g id=\"node5\" class=\"node\"><title>word_freq</title>\n",
       "<path fill=\"LightCyan\" stroke=\"black\" d=\"M198.5,-123C198.5,-123 142.5,-123 142.5,-123 136.5,-123 130.5,-117 130.5,-111 130.5,-111 130.5,-99 130.5,-99 130.5,-93 136.5,-87 142.5,-87 142.5,-87 198.5,-87 198.5,-87 204.5,-87 210.5,-93 210.5,-99 210.5,-99 210.5,-111 210.5,-111 210.5,-117 204.5,-123 198.5,-123\"/>\n",
       "<text text-anchor=\"middle\" x=\"170.5\" y=\"-101.3\" font-family=\"Roboto\" font-size=\"14.00\">word_freq</text>\n",
       "</g>\n",
       "<!-- random_text&#45;&gt;word_freq -->\n",
       "<g id=\"edge5\" class=\"edge\"><title>random_text&#45;&gt;word_freq</title>\n",
       "<path fill=\"none\" stroke=\"black\" d=\"M261.43,-173.799C244.201,-160.953 220.47,-143.258 201.571,-129.167\"/>\n",
       "<polygon fill=\"black\" stroke=\"black\" points=\"203.644,-126.347 193.535,-123.175 199.46,-131.959 203.644,-126.347\"/>\n",
       "<text text-anchor=\"middle\" x=\"281.5\" y=\"-144.8\" font-family=\"Roboto\" font-size=\"14.00\">input_resource</text>\n",
       "</g>\n",
       "<!-- __xyz0 -->\n",
       "<g id=\"node2\" class=\"node\"><title>__xyz0</title>\n",
       "<polygon fill=\"Beige\" stroke=\"black\" stroke-dasharray=\"1,5\" points=\"239,-305.5 48,-305.5 48,-269.5 239,-269.5 239,-305.5\"/>\n",
       "<text text-anchor=\"middle\" x=\"143.5\" y=\"-283.8\" font-family=\"Helvetica,sans-Serif\" font-size=\"14.00\">FSResource(random&#45;text.txt)</text>\n",
       "</g>\n",
       "<!-- __xyz0&#45;&gt;random_text -->\n",
       "<g id=\"edge1\" class=\"edge\"><title>__xyz0&#45;&gt;random_text</title>\n",
       "<path fill=\"none\" stroke=\"black\" d=\"M169.362,-269.351C192.119,-254.26 225.419,-232.178 250.36,-215.639\"/>\n",
       "<polygon fill=\"black\" stroke=\"black\" points=\"252.403,-218.484 258.802,-210.041 248.534,-212.65 252.403,-218.484\"/>\n",
       "<text text-anchor=\"middle\" x=\"254.5\" y=\"-231.8\" font-family=\"Times,serif\" font-size=\"14.00\">resource</text>\n",
       "</g>\n",
       "<!-- __xyz1 -->\n",
       "<g id=\"node3\" class=\"node\"><title>__xyz1</title>\n",
       "<polygon fill=\"Beige\" stroke=\"black\" stroke-dasharray=\"1,5\" points=\"312,-305.5 257,-305.5 257,-269.5 312,-269.5 312,-305.5\"/>\n",
       "<text text-anchor=\"middle\" x=\"284.5\" y=\"-283.8\" font-family=\"Helvetica,sans-Serif\" font-size=\"14.00\">int(50)</text>\n",
       "</g>\n",
       "<!-- __xyz1&#45;&gt;random_text -->\n",
       "<g id=\"edge2\" class=\"edge\"><title>__xyz1&#45;&gt;random_text</title>\n",
       "<path fill=\"none\" stroke=\"black\" d=\"M284.5,-269.351C284.5,-255.643 284.5,-236.169 284.5,-220.319\"/>\n",
       "<polygon fill=\"black\" stroke=\"black\" points=\"288,-220.041 284.5,-210.041 281,-220.041 288,-220.041\"/>\n",
       "<text text-anchor=\"middle\" x=\"331.5\" y=\"-231.8\" font-family=\"Roboto\" font-size=\"14.00\">num_of_words</text>\n",
       "</g>\n",
       "<!-- __xyz2 -->\n",
       "<g id=\"node4\" class=\"node\"><title>__xyz2</title>\n",
       "<polygon fill=\"Beige\" stroke=\"black\" stroke-dasharray=\"1,5\" points=\"577,-314 330,-314 330,-261 577,-261 577,-314\"/>\n",
       "<text text-anchor=\"middle\" x=\"453.5\" y=\"-298.8\" font-family=\"Helvetica,sans-Serif\" font-size=\"14.00\">list([&#39;lorem&#39;, &#39;ipsum&#39;, &#39;dolor&#39;, &#39;sit&#39;, &#39;amet&#39;</text>\n",
       "<text text-anchor=\"middle\" x=\"453.5\" y=\"-283.8\" font-family=\"Helvetica,sans-Serif\" font-size=\"14.00\">, &#39;consectetur&#39;, &#39;adipiscing&#39;, &#39;elit&#39;, &#39;v</text>\n",
       "<text text-anchor=\"middle\" x=\"453.5\" y=\"-268.8\" font-family=\"Helvetica,sans-Serif\" font-size=\"14.00\">estibulum&#39;, &#39;non&#39;, &#39;feugiat&#39;, &#39;felis&#39;])</text>\n",
       "</g>\n",
       "<!-- __xyz2&#45;&gt;random_text -->\n",
       "<g id=\"edge3\" class=\"edge\"><title>__xyz2&#45;&gt;random_text</title>\n",
       "<path fill=\"none\" stroke=\"black\" d=\"M426.816,-260.764C414.148,-249.569 398.336,-236.985 382.5,-228 369.982,-220.897 355.765,-214.826 342.118,-209.832\"/>\n",
       "<polygon fill=\"black\" stroke=\"black\" points=\"342.91,-206.4 332.315,-206.386 340.589,-213.004 342.91,-206.4\"/>\n",
       "<text text-anchor=\"middle\" x=\"453.5\" y=\"-231.8\" font-family=\"Roboto\" font-size=\"14.00\">selected_words</text>\n",
       "</g>\n",
       "<!-- kmost_freq -->\n",
       "<g id=\"node7\" class=\"node\"><title>kmost_freq</title>\n",
       "<path fill=\"LightCyan\" stroke=\"black\" d=\"M146,-36C146,-36 81,-36 81,-36 75,-36 69,-30 69,-24 69,-24 69,-12 69,-12 69,-6 75,-0 81,-0 81,-0 146,-0 146,-0 152,-0 158,-6 158,-12 158,-12 158,-24 158,-24 158,-30 152,-36 146,-36\"/>\n",
       "<text text-anchor=\"middle\" x=\"113.5\" y=\"-14.3\" font-family=\"Roboto\" font-size=\"14.00\">kmost_freq</text>\n",
       "</g>\n",
       "<!-- word_freq&#45;&gt;kmost_freq -->\n",
       "<g id=\"edge6\" class=\"edge\"><title>word_freq&#45;&gt;kmost_freq</title>\n",
       "<path fill=\"none\" stroke=\"black\" d=\"M158.965,-86.799C150.853,-74.7017 139.857,-58.3049 130.712,-44.6665\"/>\n",
       "<polygon fill=\"black\" stroke=\"black\" points=\"133.494,-42.5315 125.018,-36.1754 127.68,-46.4302 133.494,-42.5315\"/>\n",
       "<text text-anchor=\"middle\" x=\"177.5\" y=\"-57.8\" font-family=\"Roboto\" font-size=\"14.00\">word_freq</text>\n",
       "</g>\n",
       "<!-- __xyz3 -->\n",
       "<g id=\"node6\" class=\"node\"><title>__xyz3</title>\n",
       "<polygon fill=\"Beige\" stroke=\"black\" stroke-dasharray=\"1,5\" points=\"219,-210 -1.42109e-14,-210 -1.42109e-14,-174 219,-174 219,-210\"/>\n",
       "<text text-anchor=\"middle\" x=\"109.5\" y=\"-188.3\" font-family=\"Helvetica,sans-Serif\" font-size=\"14.00\">FSResource(random&#45;text&#45;freq.txt)</text>\n",
       "</g>\n",
       "<!-- __xyz3&#45;&gt;word_freq -->\n",
       "<g id=\"edge4\" class=\"edge\"><title>__xyz3&#45;&gt;word_freq</title>\n",
       "<path fill=\"none\" stroke=\"black\" d=\"M121.844,-173.799C130.526,-161.702 142.293,-145.305 152.081,-131.667\"/>\n",
       "<polygon fill=\"black\" stroke=\"black\" points=\"155.187,-133.341 158.174,-123.175 149.5,-129.259 155.187,-133.341\"/>\n",
       "<text text-anchor=\"middle\" x=\"167.5\" y=\"-144.8\" font-family=\"Times,serif\" font-size=\"14.00\">resource</text>\n",
       "</g>\n",
       "<!-- __xyz4 -->\n",
       "<g id=\"node8\" class=\"node\"><title>__xyz4</title>\n",
       "<polygon fill=\"Beige\" stroke=\"black\" stroke-dasharray=\"1,5\" points=\"112,-123 57,-123 57,-87 112,-87 112,-123\"/>\n",
       "<text text-anchor=\"middle\" x=\"84.5\" y=\"-101.3\" font-family=\"Helvetica,sans-Serif\" font-size=\"14.00\">int(10)</text>\n",
       "</g>\n",
       "<!-- __xyz4&#45;&gt;kmost_freq -->\n",
       "<g id=\"edge7\" class=\"edge\"><title>__xyz4&#45;&gt;kmost_freq</title>\n",
       "<path fill=\"none\" stroke=\"black\" d=\"M90.3686,-86.799C94.378,-75.0474 99.7716,-59.2383 104.342,-45.8421\"/>\n",
       "<polygon fill=\"black\" stroke=\"black\" points=\"107.724,-46.7699 107.64,-36.1754 101.099,-44.5096 107.724,-46.7699\"/>\n",
       "<text text-anchor=\"middle\" x=\"106.5\" y=\"-57.8\" font-family=\"Roboto\" font-size=\"14.00\">K</text>\n",
       "</g>\n",
       "</g>\n",
       "</svg>\n"
      ],
      "text/plain": [
       "<graphviz.files.Source at 0x7f5f3befada0>"
      ]
     },
     "execution_count": 32,
     "metadata": {},
     "output_type": "execute_result"
    }
   ],
   "source": [
    "viz.dag2dot(exp2)"
   ]
  },
  {
   "cell_type": "markdown",
   "metadata": {},
   "source": [
    "Executing it two times to check whatever RFlow not execute `random_text` or `word_freq` without necessity."
   ]
  },
  {
   "cell_type": "code",
   "execution_count": 33,
   "metadata": {},
   "outputs": [
    {
     "name": "stdout",
     "output_type": "stream",
     "text": [
      "Removing resource random-text.txt\n",
      "\u001b[32mRUN  exp2:kmost_freq\n",
      "\u001b[0m.\u001b[33mRUN  exp2:word_freq\n",
      "\u001b[0m..\u001b[34mRUN  exp2:random_text\n",
      "\u001b[0m..^\u001b[34mexp2:random_text\n",
      "\u001b[0m.^\u001b[33mexp2:word_freq\n",
      "\u001b[0m0-nth word: \"dolor\" happens 10 times\n",
      "1-nth word: \"consectetur\" happens 7 times\n",
      "2-nth word: \"amet\" happens 7 times\n",
      "3-nth word: \"ipsum\" happens 5 times\n",
      "4-nth word: \"lorem\" happens 4 times\n",
      "5-nth word: \"sit\" happens 3 times\n",
      "6-nth word: \"feugiat\" happens 3 times\n",
      "7-nth word: \"non\" happens 3 times\n",
      "8-nth word: \"vestibulum\" happens 2 times\n",
      "9-nth word: \"adipiscing\" happens 2 times\n",
      "^\u001b[32mexp2:kmost_freq\n",
      "\u001b[0m"
     ]
    }
   ],
   "source": [
    "exp2.random_text.clear() # Remove previous run random text\n",
    "\n",
    "exp2.kmost_freq.call()"
   ]
  },
  {
   "cell_type": "markdown",
   "metadata": {},
   "source": [
    "First time executed as expected, running all the DAG."
   ]
  },
  {
   "cell_type": "code",
   "execution_count": 34,
   "metadata": {},
   "outputs": [
    {
     "name": "stdout",
     "output_type": "stream",
     "text": [
      "\u001b[32mRUN  exp2:kmost_freq\n",
      "\u001b[0m0-nth word: \"dolor\" happens 10 times\n",
      "1-nth word: \"consectetur\" happens 7 times\n",
      "2-nth word: \"amet\" happens 7 times\n",
      "3-nth word: \"ipsum\" happens 5 times\n",
      "4-nth word: \"lorem\" happens 4 times\n",
      "5-nth word: \"sit\" happens 3 times\n",
      "6-nth word: \"feugiat\" happens 3 times\n",
      "7-nth word: \"non\" happens 3 times\n",
      "8-nth word: \"vestibulum\" happens 2 times\n",
      "9-nth word: \"adipiscing\" happens 2 times\n",
      "^\u001b[32mexp2:kmost_freq\n",
      "\u001b[0m"
     ]
    }
   ],
   "source": [
    "# Use the redo flag again, to force\n",
    "# kmost_freq execution.\n",
    "exp2.kmost_freq.call(redo=True)"
   ]
  },
  {
   "cell_type": "markdown",
   "metadata": {},
   "source": [
    "As expected, the system didn't evaluate two times `random_text` or `word_freq`, just `kmost_freq`.\n",
    "\n",
    "For testing raw python values changes, the next code modifies the random generator parameter to make 100 words:"
   ]
  },
  {
   "cell_type": "code",
   "execution_count": 35,
   "metadata": {},
   "outputs": [
    {
     "name": "stdout",
     "output_type": "stream",
     "text": [
      "\u001b[32mRUN  exp2:kmost_freq\n",
      "\u001b[0m.\u001b[33mRUN  exp2:word_freq\n",
      "\u001b[0m..\u001b[34mRUN  exp2:random_text\n",
      "\u001b[0m..^\u001b[34mexp2:random_text\n",
      "\u001b[0m.^\u001b[33mexp2:word_freq\n",
      "\u001b[0m0-nth word: \"lorem\" happens 11 times\n",
      "1-nth word: \"vestibulum\" happens 10 times\n",
      "2-nth word: \"elit\" happens 10 times\n",
      "3-nth word: \"amet\" happens 10 times\n",
      "4-nth word: \"dolor\" happens 10 times\n",
      "5-nth word: \"felis\" happens 10 times\n",
      "6-nth word: \"adipiscing\" happens 8 times\n",
      "7-nth word: \"ipsum\" happens 8 times\n",
      "8-nth word: \"non\" happens 7 times\n",
      "9-nth word: \"feugiat\" happens 6 times\n",
      "^\u001b[32mexp2:kmost_freq\n",
      "\u001b[0m"
     ]
    }
   ],
   "source": [
    "exp2.random_text.args.num_of_words = 100\n",
    "exp2.kmost_freq.call(redo=True)"
   ]
  },
  {
   "cell_type": "markdown",
   "metadata": {},
   "source": [
    "When changing `num_of_words` to 100, RFlow detected this and recalled all dependent nodes."
   ]
  },
  {
   "cell_type": "markdown",
   "metadata": {},
   "source": [
    "## Putting DAG inside workflow.py files\n",
    "\n",
    "RFlow DAG can be used inside Jupyter notebooks, but it is primarily designed to run from files named `workflow.py`. This makes more comfortable sharing and reusing code. \n",
    "\n",
    "For the word counting example, create the file [workflow.py](workflow.py) in the same directory as the \"big.txt\" file.  Put all node definition code in it.\n",
    " \n",
    "The graph code will be the same, except that it should use the `rflow.graph()` decorator to provide an initialized graph object. The next snippet shows how the graph code should be placed on the file:\n",
    "\n",
    "```python\n",
    "@rflow.graph()\n",
    "def exp2(g):\n",
    "    g.random_text = RandomText(rflow.FSResource('random-text.txt'))\n",
    "    with g.random_text as args:\n",
    "        args.num_of_words = 50\n",
    "        args.selected_words = [\n",
    "            'lorem', 'ipsum', 'dolor', 'sit', 'amet',\n",
    "            'consectetur', 'adipiscing', 'elit', 'vestibulum',\n",
    "            'non', 'feugiat', 'felis']\n",
    "\n",
    "    g.word_freq = WordFrequency(rflow.FSResource('random-text-freq.txt'))\n",
    "    g.word_freq.args.input_resource = g.random_text.resource\n",
    "\n",
    "    g.kmost_freq = PrintKMost()\n",
    "    with g.kmost_freq as args:    \n",
    "        args.word_freq = g.word_freq\n",
    "        args.K = 10\n",
    "```\n",
    "\n",
    "On the above code: \n",
    "\n",
    "* The graph's name is its function name - `exp2`.\n",
    "* The `g` variable is a already created graph by the decorator.\n",
    "\n",
    "Graphs then can be executed with `rflow` command. The first one will `clean` the `word_freq` node:"
   ]
  },
  {
   "cell_type": "code",
   "execution_count": 36,
   "metadata": {},
   "outputs": [
    {
     "name": "stdout",
     "output_type": "stream",
     "text": [
      "Removing resource random-text-freq.txt\r\n"
     ]
    }
   ],
   "source": [
    "!rflow exp2 clean word_freq"
   ]
  },
  {
   "cell_type": "markdown",
   "metadata": {},
   "source": [
    "The first argument to `rflow` is the target graph. The second one is the command. There are the following commands:"
   ]
  },
  {
   "cell_type": "code",
   "execution_count": 37,
   "metadata": {},
   "outputs": [
    {
     "name": "stdout",
     "output_type": "stream",
     "text": [
      "usage: rflow [-h] {exp2} {run,touch,print-run,viz-dag,help,clean}\r\n",
      "\r\n",
      "Shrkit workflow manager\r\n",
      "\r\n",
      "positional arguments:\r\n",
      "  {exp2}\r\n",
      "  {run,touch,print-run,viz-dag,help,clean}\r\n",
      "\r\n",
      "optional arguments:\r\n",
      "  -h, --help            show this help message and exit\r\n"
     ]
    }
   ],
   "source": [
    "!rflow exp2 -h"
   ]
  },
  {
   "cell_type": "markdown",
   "metadata": {},
   "source": [
    "The `run` command executes a given node. Use the  `-h` flag to show the available nodes:"
   ]
  },
  {
   "cell_type": "code",
   "execution_count": 38,
   "metadata": {},
   "outputs": [
    {
     "name": "stdout",
     "output_type": "stream",
     "text": [
      "usage: rflow [-h] [--redo] node\r\n",
      "\r\n",
      "Executes the workflow to a node.\r\n",
      "\r\n",
      "positional arguments:\r\n",
      "  node        random_text, word_freq, kmost_freq\r\n",
      "\r\n",
      "optional arguments:\r\n",
      "  -h, --help  show this help message and exit\r\n",
      "  --redo, -r  Redo the last node, whatever even if it's updated (default:\r\n",
      "              False)\r\n"
     ]
    }
   ],
   "source": [
    "!rflow exp2 run -h"
   ]
  },
  {
   "cell_type": "markdown",
   "metadata": {},
   "source": [
    "To run the `kmost_freq` from command-line:"
   ]
  },
  {
   "cell_type": "code",
   "execution_count": 39,
   "metadata": {},
   "outputs": [
    {
     "name": "stdout",
     "output_type": "stream",
     "text": [
      "\u001b[32mRUN  exp2:kmost_freq\n",
      "\u001b[0m.\u001b[33mRUN  exp2:word_freq\n",
      "\u001b[0m..\u001b[34mRUN  exp2:random_text\n",
      "\u001b[0m..^\u001b[34mexp2:random_text\n",
      "\u001b[0m.^\u001b[33mexp2:word_freq\n",
      "\u001b[0m0-nth word: \"amet\" happens 7 times\n",
      "1-nth word: \"non\" happens 7 times\n",
      "2-nth word: \"lorem\" happens 6 times\n",
      "3-nth word: \"elit\" happens 5 times\n",
      "4-nth word: \"dolor\" happens 5 times\n",
      "5-nth word: \"consectetur\" happens 5 times\n",
      "6-nth word: \"vestibulum\" happens 4 times\n",
      "7-nth word: \"felis\" happens 4 times\n",
      "8-nth word: \"sit\" happens 3 times\n",
      "9-nth word: \"adipiscing\" happens 2 times\n",
      "^\u001b[32mexp2:kmost_freq\n",
      "\u001b[0m"
     ]
    }
   ],
   "source": [
    "!rflow exp2 run kmost_freq"
   ]
  },
  {
   "cell_type": "markdown",
   "metadata": {},
   "source": [
    "Testing again should not evaluate `word_freq` again."
   ]
  },
  {
   "cell_type": "code",
   "execution_count": 40,
   "metadata": {},
   "outputs": [
    {
     "name": "stdout",
     "output_type": "stream",
     "text": [
      "\u001b[32mRUN  exp2:kmost_freq\r\n",
      "\u001b[0m.\u001b[33mLOAD exp2:word_freq\r\n",
      "\u001b[0m.^\u001b[33mDONE exp2:word_freq\r\n",
      "\u001b[0m0-nth word: \"amet\" happens 7 times\r\n",
      "1-nth word: \"non\" happens 7 times\r\n",
      "2-nth word: \"lorem\" happens 6 times\r\n",
      "3-nth word: \"elit\" happens 5 times\r\n",
      "4-nth word: \"dolor\" happens 5 times\r\n",
      "5-nth word: \"consectetur\" happens 5 times\r\n",
      "6-nth word: \"vestibulum\" happens 4 times\r\n",
      "7-nth word: \"felis\" happens 4 times\r\n",
      "8-nth word: \"sit\" happens 3 times\r\n",
      "9-nth word: \"adipiscing\" happens 2 times\r\n",
      "^\u001b[32mexp2:kmost_freq\r\n",
      "\u001b[0m"
     ]
    }
   ],
   "source": [
    "!rflow exp2 run kmost_freq"
   ]
  },
  {
   "cell_type": "markdown",
   "metadata": {},
   "source": [
    "Graphviz visualizations are available on command line too:\n",
    "\n",
    "```shell\n",
    "$rflow exp2 viz-dag\n",
    "```"
   ]
  },
  {
   "cell_type": "markdown",
   "metadata": {},
   "source": [
    "## Using sub-graphs\n",
    "\n",
    "Sometimes researchers want to keep two parameterized branches of an experiment. In RFlow they can create sub-functions to generate on the fly.\n",
    "\n",
    "Suppose that we want to track the effects of counting 50 or 100 random words. Next code creates a function to generate DAGs with different word counts, through `word_count` parameter."
   ]
  },
  {
   "cell_type": "code",
   "execution_count": 41,
   "metadata": {},
   "outputs": [],
   "source": [
    "def _sub_graph(s, word_count):\n",
    "    s.random_text = RandomText(rflow.FSResource('{}-random-text.txt'.format(word_count)))\n",
    "    with s.random_text as args:\n",
    "        args.num_of_words = word_count\n",
    "        args.selected_words = [\n",
    "            'lorem', 'ipsum', 'dolor', 'sit', 'amet',\n",
    "            'consectetur', 'adipiscing', 'elit', 'vestibulum',\n",
    "            'non', 'feugiat', 'felis']\n",
    "\n",
    "    s.word_freq = WordFrequency(rflow.FSResource('{}-random-text-freq.txt'.format(word_count)))\n",
    "    s.word_freq.args.input_resource = s.random_text.resource\n",
    "\n",
    "    s.kmost_freq = PrintKMost()\n",
    "    with s.kmost_freq as args:    \n",
    "        args.word_freq = s.word_freq\n",
    "        args.K = 10\n",
    "        "
   ]
  },
  {
   "cell_type": "markdown",
   "metadata": {},
   "source": [
    "**Note:** The resource file paths were set to reflect their corresponding parameters. \n",
    "\n",
    "There are two ways to use `_sub_graph`. The first is by creating a new graph:"
   ]
  },
  {
   "cell_type": "code",
   "execution_count": 42,
   "metadata": {},
   "outputs": [],
   "source": [
    "exp2_50 = rflow.get_graph('exp2_50', overwrite=True)\n",
    "exp2_100 = rflow.get_graph('exp2_100', overwrite=True)\n",
    "\n",
    "_sub_graph(exp2_50, 50)\n",
    "_sub_graph(exp2_100, 100)"
   ]
  },
  {
   "cell_type": "code",
   "execution_count": 43,
   "metadata": {},
   "outputs": [
    {
     "data": {
      "image/svg+xml": [
       "<?xml version=\"1.0\" encoding=\"UTF-8\" standalone=\"no\"?>\n",
       "<!DOCTYPE svg PUBLIC \"-//W3C//DTD SVG 1.1//EN\"\n",
       " \"http://www.w3.org/Graphics/SVG/1.1/DTD/svg11.dtd\">\n",
       "<!-- Generated by graphviz version 2.38.0 (20140413.2041)\n",
       " -->\n",
       "<!-- Title: exp2_50 Pages: 1 -->\n",
       "<svg width=\"605pt\" height=\"322pt\"\n",
       " viewBox=\"0.00 0.00 605.00 322.00\" xmlns=\"http://www.w3.org/2000/svg\" xmlns:xlink=\"http://www.w3.org/1999/xlink\">\n",
       "<g id=\"graph0\" class=\"graph\" transform=\"scale(1 1) rotate(0) translate(4 318)\">\n",
       "<title>exp2_50</title>\n",
       "<polygon fill=\"white\" stroke=\"none\" points=\"-4,4 -4,-318 601,-318 601,4 -4,4\"/>\n",
       "<!-- random_text -->\n",
       "<g id=\"node1\" class=\"node\"><title>random_text</title>\n",
       "<path fill=\"LightCyan\" stroke=\"black\" d=\"M340,-210C340,-210 269,-210 269,-210 263,-210 257,-204 257,-198 257,-198 257,-186 257,-186 257,-180 263,-174 269,-174 269,-174 340,-174 340,-174 346,-174 352,-180 352,-186 352,-186 352,-198 352,-198 352,-204 346,-210 340,-210\"/>\n",
       "<text text-anchor=\"middle\" x=\"304.5\" y=\"-188.3\" font-family=\"Roboto\" font-size=\"14.00\">random_text</text>\n",
       "</g>\n",
       "<!-- word_freq -->\n",
       "<g id=\"node5\" class=\"node\"><title>word_freq</title>\n",
       "<path fill=\"LightCyan\" stroke=\"black\" d=\"M211.5,-123C211.5,-123 155.5,-123 155.5,-123 149.5,-123 143.5,-117 143.5,-111 143.5,-111 143.5,-99 143.5,-99 143.5,-93 149.5,-87 155.5,-87 155.5,-87 211.5,-87 211.5,-87 217.5,-87 223.5,-93 223.5,-99 223.5,-99 223.5,-111 223.5,-111 223.5,-117 217.5,-123 211.5,-123\"/>\n",
       "<text text-anchor=\"middle\" x=\"183.5\" y=\"-101.3\" font-family=\"Roboto\" font-size=\"14.00\">word_freq</text>\n",
       "</g>\n",
       "<!-- random_text&#45;&gt;word_freq -->\n",
       "<g id=\"edge5\" class=\"edge\"><title>random_text&#45;&gt;word_freq</title>\n",
       "<path fill=\"none\" stroke=\"black\" d=\"M280.014,-173.799C261.645,-160.895 236.312,-143.099 216.209,-128.978\"/>\n",
       "<polygon fill=\"black\" stroke=\"black\" points=\"218.144,-126.06 207.95,-123.175 214.121,-131.788 218.144,-126.06\"/>\n",
       "<text text-anchor=\"middle\" x=\"298.5\" y=\"-144.8\" font-family=\"Roboto\" font-size=\"14.00\">input_resource</text>\n",
       "</g>\n",
       "<!-- __xyz0 -->\n",
       "<g id=\"node2\" class=\"node\"><title>__xyz0</title>\n",
       "<polygon fill=\"Beige\" stroke=\"black\" stroke-dasharray=\"1,5\" points=\"259,-305.5 48,-305.5 48,-269.5 259,-269.5 259,-305.5\"/>\n",
       "<text text-anchor=\"middle\" x=\"153.5\" y=\"-283.8\" font-family=\"Helvetica,sans-Serif\" font-size=\"14.00\">FSResource(50&#45;random&#45;text.txt)</text>\n",
       "</g>\n",
       "<!-- __xyz0&#45;&gt;random_text -->\n",
       "<g id=\"edge1\" class=\"edge\"><title>__xyz0&#45;&gt;random_text</title>\n",
       "<path fill=\"none\" stroke=\"black\" d=\"M181.196,-269.351C205.674,-254.194 241.541,-231.985 268.288,-215.423\"/>\n",
       "<polygon fill=\"black\" stroke=\"black\" points=\"270.32,-218.281 276.98,-210.041 266.635,-212.329 270.32,-218.281\"/>\n",
       "<text text-anchor=\"middle\" x=\"270.5\" y=\"-231.8\" font-family=\"Times,serif\" font-size=\"14.00\">resource</text>\n",
       "</g>\n",
       "<!-- __xyz1 -->\n",
       "<g id=\"node3\" class=\"node\"><title>__xyz1</title>\n",
       "<polygon fill=\"Beige\" stroke=\"black\" stroke-dasharray=\"1,5\" points=\"332,-305.5 277,-305.5 277,-269.5 332,-269.5 332,-305.5\"/>\n",
       "<text text-anchor=\"middle\" x=\"304.5\" y=\"-283.8\" font-family=\"Helvetica,sans-Serif\" font-size=\"14.00\">int(50)</text>\n",
       "</g>\n",
       "<!-- __xyz1&#45;&gt;random_text -->\n",
       "<g id=\"edge2\" class=\"edge\"><title>__xyz1&#45;&gt;random_text</title>\n",
       "<path fill=\"none\" stroke=\"black\" d=\"M304.5,-269.351C304.5,-255.643 304.5,-236.169 304.5,-220.319\"/>\n",
       "<polygon fill=\"black\" stroke=\"black\" points=\"308,-220.041 304.5,-210.041 301,-220.041 308,-220.041\"/>\n",
       "<text text-anchor=\"middle\" x=\"351.5\" y=\"-231.8\" font-family=\"Roboto\" font-size=\"14.00\">num_of_words</text>\n",
       "</g>\n",
       "<!-- __xyz2 -->\n",
       "<g id=\"node4\" class=\"node\"><title>__xyz2</title>\n",
       "<polygon fill=\"Beige\" stroke=\"black\" stroke-dasharray=\"1,5\" points=\"597,-314 350,-314 350,-261 597,-261 597,-314\"/>\n",
       "<text text-anchor=\"middle\" x=\"473.5\" y=\"-298.8\" font-family=\"Helvetica,sans-Serif\" font-size=\"14.00\">list([&#39;lorem&#39;, &#39;ipsum&#39;, &#39;dolor&#39;, &#39;sit&#39;, &#39;amet&#39;</text>\n",
       "<text text-anchor=\"middle\" x=\"473.5\" y=\"-283.8\" font-family=\"Helvetica,sans-Serif\" font-size=\"14.00\">, &#39;consectetur&#39;, &#39;adipiscing&#39;, &#39;elit&#39;, &#39;v</text>\n",
       "<text text-anchor=\"middle\" x=\"473.5\" y=\"-268.8\" font-family=\"Helvetica,sans-Serif\" font-size=\"14.00\">estibulum&#39;, &#39;non&#39;, &#39;feugiat&#39;, &#39;felis&#39;])</text>\n",
       "</g>\n",
       "<!-- __xyz2&#45;&gt;random_text -->\n",
       "<g id=\"edge3\" class=\"edge\"><title>__xyz2&#45;&gt;random_text</title>\n",
       "<path fill=\"none\" stroke=\"black\" d=\"M446.816,-260.764C434.148,-249.569 418.336,-236.985 402.5,-228 389.982,-220.897 375.765,-214.826 362.118,-209.832\"/>\n",
       "<polygon fill=\"black\" stroke=\"black\" points=\"362.91,-206.4 352.315,-206.386 360.589,-213.004 362.91,-206.4\"/>\n",
       "<text text-anchor=\"middle\" x=\"473.5\" y=\"-231.8\" font-family=\"Roboto\" font-size=\"14.00\">selected_words</text>\n",
       "</g>\n",
       "<!-- kmost_freq -->\n",
       "<g id=\"node7\" class=\"node\"><title>kmost_freq</title>\n",
       "<path fill=\"LightCyan\" stroke=\"black\" d=\"M159,-36C159,-36 94,-36 94,-36 88,-36 82,-30 82,-24 82,-24 82,-12 82,-12 82,-6 88,-0 94,-0 94,-0 159,-0 159,-0 165,-0 171,-6 171,-12 171,-12 171,-24 171,-24 171,-30 165,-36 159,-36\"/>\n",
       "<text text-anchor=\"middle\" x=\"126.5\" y=\"-14.3\" font-family=\"Roboto\" font-size=\"14.00\">kmost_freq</text>\n",
       "</g>\n",
       "<!-- word_freq&#45;&gt;kmost_freq -->\n",
       "<g id=\"edge6\" class=\"edge\"><title>word_freq&#45;&gt;kmost_freq</title>\n",
       "<path fill=\"none\" stroke=\"black\" d=\"M171.965,-86.799C163.853,-74.7017 152.857,-58.3049 143.712,-44.6665\"/>\n",
       "<polygon fill=\"black\" stroke=\"black\" points=\"146.494,-42.5315 138.018,-36.1754 140.68,-46.4302 146.494,-42.5315\"/>\n",
       "<text text-anchor=\"middle\" x=\"190.5\" y=\"-57.8\" font-family=\"Roboto\" font-size=\"14.00\">word_freq</text>\n",
       "</g>\n",
       "<!-- __xyz3 -->\n",
       "<g id=\"node6\" class=\"node\"><title>__xyz3</title>\n",
       "<polygon fill=\"Beige\" stroke=\"black\" stroke-dasharray=\"1,5\" points=\"239,-210 0,-210 0,-174 239,-174 239,-210\"/>\n",
       "<text text-anchor=\"middle\" x=\"119.5\" y=\"-188.3\" font-family=\"Helvetica,sans-Serif\" font-size=\"14.00\">FSResource(50&#45;random&#45;text&#45;freq.txt)</text>\n",
       "</g>\n",
       "<!-- __xyz3&#45;&gt;word_freq -->\n",
       "<g id=\"edge4\" class=\"edge\"><title>__xyz3&#45;&gt;word_freq</title>\n",
       "<path fill=\"none\" stroke=\"black\" d=\"M132.451,-173.799C141.647,-161.587 154.141,-144.992 164.467,-131.278\"/>\n",
       "<polygon fill=\"black\" stroke=\"black\" points=\"167.349,-133.269 170.568,-123.175 161.757,-129.059 167.349,-133.269\"/>\n",
       "<text text-anchor=\"middle\" x=\"178.5\" y=\"-144.8\" font-family=\"Times,serif\" font-size=\"14.00\">resource</text>\n",
       "</g>\n",
       "<!-- __xyz4 -->\n",
       "<g id=\"node8\" class=\"node\"><title>__xyz4</title>\n",
       "<polygon fill=\"Beige\" stroke=\"black\" stroke-dasharray=\"1,5\" points=\"125,-123 70,-123 70,-87 125,-87 125,-123\"/>\n",
       "<text text-anchor=\"middle\" x=\"97.5\" y=\"-101.3\" font-family=\"Helvetica,sans-Serif\" font-size=\"14.00\">int(10)</text>\n",
       "</g>\n",
       "<!-- __xyz4&#45;&gt;kmost_freq -->\n",
       "<g id=\"edge7\" class=\"edge\"><title>__xyz4&#45;&gt;kmost_freq</title>\n",
       "<path fill=\"none\" stroke=\"black\" d=\"M103.369,-86.799C107.378,-75.0474 112.772,-59.2383 117.342,-45.8421\"/>\n",
       "<polygon fill=\"black\" stroke=\"black\" points=\"120.724,-46.7699 120.64,-36.1754 114.099,-44.5096 120.724,-46.7699\"/>\n",
       "<text text-anchor=\"middle\" x=\"119.5\" y=\"-57.8\" font-family=\"Roboto\" font-size=\"14.00\">K</text>\n",
       "</g>\n",
       "</g>\n",
       "</svg>\n"
      ],
      "text/plain": [
       "<graphviz.files.Source at 0x7f5f3beac400>"
      ]
     },
     "execution_count": 43,
     "metadata": {},
     "output_type": "execute_result"
    }
   ],
   "source": [
    "viz.dag2dot(exp2_50)"
   ]
  },
  {
   "cell_type": "code",
   "execution_count": 46,
   "metadata": {},
   "outputs": [
    {
     "data": {
      "image/svg+xml": [
       "<?xml version=\"1.0\" encoding=\"UTF-8\" standalone=\"no\"?>\n",
       "<!DOCTYPE svg PUBLIC \"-//W3C//DTD SVG 1.1//EN\"\n",
       " \"http://www.w3.org/Graphics/SVG/1.1/DTD/svg11.dtd\">\n",
       "<!-- Generated by graphviz version 2.38.0 (20140413.2041)\n",
       " -->\n",
       "<!-- Title: exp2_100 Pages: 1 -->\n",
       "<svg width=\"617pt\" height=\"322pt\"\n",
       " viewBox=\"0.00 0.00 616.50 322.00\" xmlns=\"http://www.w3.org/2000/svg\" xmlns:xlink=\"http://www.w3.org/1999/xlink\">\n",
       "<g id=\"graph0\" class=\"graph\" transform=\"scale(1 1) rotate(0) translate(4 318)\">\n",
       "<title>exp2_100</title>\n",
       "<polygon fill=\"white\" stroke=\"none\" points=\"-4,4 -4,-318 612.5,-318 612.5,4 -4,4\"/>\n",
       "<!-- random_text -->\n",
       "<g id=\"node1\" class=\"node\"><title>random_text</title>\n",
       "<path fill=\"LightCyan\" stroke=\"black\" d=\"M347.5,-210C347.5,-210 276.5,-210 276.5,-210 270.5,-210 264.5,-204 264.5,-198 264.5,-198 264.5,-186 264.5,-186 264.5,-180 270.5,-174 276.5,-174 276.5,-174 347.5,-174 347.5,-174 353.5,-174 359.5,-180 359.5,-186 359.5,-186 359.5,-198 359.5,-198 359.5,-204 353.5,-210 347.5,-210\"/>\n",
       "<text text-anchor=\"middle\" x=\"312\" y=\"-188.3\" font-family=\"Roboto\" font-size=\"14.00\">random_text</text>\n",
       "</g>\n",
       "<!-- word_freq -->\n",
       "<g id=\"node5\" class=\"node\"><title>word_freq</title>\n",
       "<path fill=\"LightCyan\" stroke=\"black\" d=\"M216,-123C216,-123 160,-123 160,-123 154,-123 148,-117 148,-111 148,-111 148,-99 148,-99 148,-93 154,-87 160,-87 160,-87 216,-87 216,-87 222,-87 228,-93 228,-99 228,-99 228,-111 228,-111 228,-117 222,-123 216,-123\"/>\n",
       "<text text-anchor=\"middle\" x=\"188\" y=\"-101.3\" font-family=\"Roboto\" font-size=\"14.00\">word_freq</text>\n",
       "</g>\n",
       "<!-- random_text&#45;&gt;word_freq -->\n",
       "<g id=\"edge5\" class=\"edge\"><title>random_text&#45;&gt;word_freq</title>\n",
       "<path fill=\"none\" stroke=\"black\" d=\"M286.907,-173.799C268.082,-160.895 242.122,-143.099 221.52,-128.978\"/>\n",
       "<polygon fill=\"black\" stroke=\"black\" points=\"223.283,-125.943 213.056,-123.175 219.325,-131.716 223.283,-125.943\"/>\n",
       "<text text-anchor=\"middle\" x=\"305\" y=\"-144.8\" font-family=\"Roboto\" font-size=\"14.00\">input_resource</text>\n",
       "</g>\n",
       "<!-- __xyz0 -->\n",
       "<g id=\"node2\" class=\"node\"><title>__xyz0</title>\n",
       "<polygon fill=\"Beige\" stroke=\"black\" stroke-dasharray=\"1,5\" points=\"263,-305.5 45,-305.5 45,-269.5 263,-269.5 263,-305.5\"/>\n",
       "<text text-anchor=\"middle\" x=\"154\" y=\"-283.8\" font-family=\"Helvetica,sans-Serif\" font-size=\"14.00\">FSResource(100&#45;random&#45;text.txt)</text>\n",
       "</g>\n",
       "<!-- __xyz0&#45;&gt;random_text -->\n",
       "<g id=\"edge1\" class=\"edge\"><title>__xyz0&#45;&gt;random_text</title>\n",
       "<path fill=\"none\" stroke=\"black\" d=\"M182.98,-269.351C208.704,-254.128 246.449,-231.791 274.474,-215.207\"/>\n",
       "<polygon fill=\"black\" stroke=\"black\" points=\"276.381,-218.146 283.204,-210.041 272.816,-212.121 276.381,-218.146\"/>\n",
       "<text text-anchor=\"middle\" x=\"275\" y=\"-231.8\" font-family=\"Times,serif\" font-size=\"14.00\">resource</text>\n",
       "</g>\n",
       "<!-- __xyz1 -->\n",
       "<g id=\"node3\" class=\"node\"><title>__xyz1</title>\n",
       "<polygon fill=\"Beige\" stroke=\"black\" stroke-dasharray=\"1,5\" points=\"343,-305.5 281,-305.5 281,-269.5 343,-269.5 343,-305.5\"/>\n",
       "<text text-anchor=\"middle\" x=\"312\" y=\"-283.8\" font-family=\"Helvetica,sans-Serif\" font-size=\"14.00\">int(100)</text>\n",
       "</g>\n",
       "<!-- __xyz1&#45;&gt;random_text -->\n",
       "<g id=\"edge2\" class=\"edge\"><title>__xyz1&#45;&gt;random_text</title>\n",
       "<path fill=\"none\" stroke=\"black\" d=\"M312,-269.351C312,-255.643 312,-236.169 312,-220.319\"/>\n",
       "<polygon fill=\"black\" stroke=\"black\" points=\"315.5,-220.041 312,-210.041 308.5,-220.041 315.5,-220.041\"/>\n",
       "<text text-anchor=\"middle\" x=\"359\" y=\"-231.8\" font-family=\"Roboto\" font-size=\"14.00\">num_of_words</text>\n",
       "</g>\n",
       "<!-- __xyz2 -->\n",
       "<g id=\"node4\" class=\"node\"><title>__xyz2</title>\n",
       "<polygon fill=\"Beige\" stroke=\"black\" stroke-dasharray=\"1,5\" points=\"608.5,-314 361.5,-314 361.5,-261 608.5,-261 608.5,-314\"/>\n",
       "<text text-anchor=\"middle\" x=\"485\" y=\"-298.8\" font-family=\"Helvetica,sans-Serif\" font-size=\"14.00\">list([&#39;lorem&#39;, &#39;ipsum&#39;, &#39;dolor&#39;, &#39;sit&#39;, &#39;amet&#39;</text>\n",
       "<text text-anchor=\"middle\" x=\"485\" y=\"-283.8\" font-family=\"Helvetica,sans-Serif\" font-size=\"14.00\">, &#39;consectetur&#39;, &#39;adipiscing&#39;, &#39;elit&#39;, &#39;v</text>\n",
       "<text text-anchor=\"middle\" x=\"485\" y=\"-268.8\" font-family=\"Helvetica,sans-Serif\" font-size=\"14.00\">estibulum&#39;, &#39;non&#39;, &#39;feugiat&#39;, &#39;felis&#39;])</text>\n",
       "</g>\n",
       "<!-- __xyz2&#45;&gt;random_text -->\n",
       "<g id=\"edge3\" class=\"edge\"><title>__xyz2&#45;&gt;random_text</title>\n",
       "<path fill=\"none\" stroke=\"black\" d=\"M456.599,-260.843C443.173,-249.663 426.496,-237.07 410,-228 397.388,-221.066 383.136,-215.058 369.485,-210.071\"/>\n",
       "<polygon fill=\"black\" stroke=\"black\" points=\"370.278,-206.64 359.683,-206.622 367.954,-213.243 370.278,-206.64\"/>\n",
       "<text text-anchor=\"middle\" x=\"482\" y=\"-231.8\" font-family=\"Roboto\" font-size=\"14.00\">selected_words</text>\n",
       "</g>\n",
       "<!-- kmost_freq -->\n",
       "<g id=\"node7\" class=\"node\"><title>kmost_freq</title>\n",
       "<path fill=\"LightCyan\" stroke=\"black\" d=\"M163.5,-36C163.5,-36 98.5,-36 98.5,-36 92.5,-36 86.5,-30 86.5,-24 86.5,-24 86.5,-12 86.5,-12 86.5,-6 92.5,-0 98.5,-0 98.5,-0 163.5,-0 163.5,-0 169.5,-0 175.5,-6 175.5,-12 175.5,-12 175.5,-24 175.5,-24 175.5,-30 169.5,-36 163.5,-36\"/>\n",
       "<text text-anchor=\"middle\" x=\"131\" y=\"-14.3\" font-family=\"Roboto\" font-size=\"14.00\">kmost_freq</text>\n",
       "</g>\n",
       "<!-- word_freq&#45;&gt;kmost_freq -->\n",
       "<g id=\"edge6\" class=\"edge\"><title>word_freq&#45;&gt;kmost_freq</title>\n",
       "<path fill=\"none\" stroke=\"black\" d=\"M176.465,-86.799C168.353,-74.7017 157.357,-58.3049 148.212,-44.6665\"/>\n",
       "<polygon fill=\"black\" stroke=\"black\" points=\"150.994,-42.5315 142.518,-36.1754 145.18,-46.4302 150.994,-42.5315\"/>\n",
       "<text text-anchor=\"middle\" x=\"195\" y=\"-57.8\" font-family=\"Roboto\" font-size=\"14.00\">word_freq</text>\n",
       "</g>\n",
       "<!-- __xyz3 -->\n",
       "<g id=\"node6\" class=\"node\"><title>__xyz3</title>\n",
       "<polygon fill=\"Beige\" stroke=\"black\" stroke-dasharray=\"1,5\" points=\"246,-210 0,-210 0,-174 246,-174 246,-210\"/>\n",
       "<text text-anchor=\"middle\" x=\"123\" y=\"-188.3\" font-family=\"Helvetica,sans-Serif\" font-size=\"14.00\">FSResource(100&#45;random&#45;text&#45;freq.txt)</text>\n",
       "</g>\n",
       "<!-- __xyz3&#45;&gt;word_freq -->\n",
       "<g id=\"edge4\" class=\"edge\"><title>__xyz3&#45;&gt;word_freq</title>\n",
       "<path fill=\"none\" stroke=\"black\" d=\"M136.154,-173.799C145.493,-161.587 158.182,-144.992 168.67,-131.278\"/>\n",
       "<polygon fill=\"black\" stroke=\"black\" points=\"171.572,-133.245 174.866,-123.175 166.011,-128.993 171.572,-133.245\"/>\n",
       "<text text-anchor=\"middle\" x=\"183\" y=\"-144.8\" font-family=\"Times,serif\" font-size=\"14.00\">resource</text>\n",
       "</g>\n",
       "<!-- __xyz4 -->\n",
       "<g id=\"node8\" class=\"node\"><title>__xyz4</title>\n",
       "<polygon fill=\"Beige\" stroke=\"black\" stroke-dasharray=\"1,5\" points=\"129.5,-123 74.5,-123 74.5,-87 129.5,-87 129.5,-123\"/>\n",
       "<text text-anchor=\"middle\" x=\"102\" y=\"-101.3\" font-family=\"Helvetica,sans-Serif\" font-size=\"14.00\">int(10)</text>\n",
       "</g>\n",
       "<!-- __xyz4&#45;&gt;kmost_freq -->\n",
       "<g id=\"edge7\" class=\"edge\"><title>__xyz4&#45;&gt;kmost_freq</title>\n",
       "<path fill=\"none\" stroke=\"black\" d=\"M107.869,-86.799C111.878,-75.0474 117.272,-59.2383 121.842,-45.8421\"/>\n",
       "<polygon fill=\"black\" stroke=\"black\" points=\"125.224,-46.7699 125.14,-36.1754 118.599,-44.5096 125.224,-46.7699\"/>\n",
       "<text text-anchor=\"middle\" x=\"124\" y=\"-57.8\" font-family=\"Roboto\" font-size=\"14.00\">K</text>\n",
       "</g>\n",
       "</g>\n",
       "</svg>\n"
      ],
      "text/plain": [
       "<graphviz.dot.Digraph at 0x7f5f3beb9438>"
      ]
     },
     "execution_count": 46,
     "metadata": {},
     "output_type": "execute_result"
    }
   ],
   "source": [
    "viz.dag2dot(exp2_100)"
   ]
  },
  {
   "cell_type": "markdown",
   "metadata": {},
   "source": [
    "Alternatively, they can just be put in the same graph, but with different vertex names. The `prefix()` method returns a temporally graph, where each node has it name prefixed with the prefix string.  \n",
    "\n",
    "The following example creates a graph to hold 50 and 100 graphs. Each one prefixed with, respectively, `n50` and `n100` strings."
   ]
  },
  {
   "cell_type": "code",
   "execution_count": 45,
   "metadata": {},
   "outputs": [
    {
     "data": {
      "image/svg+xml": [
       "<?xml version=\"1.0\" encoding=\"UTF-8\" standalone=\"no\"?>\n",
       "<!DOCTYPE svg PUBLIC \"-//W3C//DTD SVG 1.1//EN\"\n",
       " \"http://www.w3.org/Graphics/SVG/1.1/DTD/svg11.dtd\">\n",
       "<!-- Generated by graphviz version 2.38.0 (20140413.2041)\n",
       " -->\n",
       "<!-- Title: exp2_50_100 Pages: 1 -->\n",
       "<svg width=\"1184pt\" height=\"322pt\"\n",
       " viewBox=\"0.00 0.00 1184.00 322.00\" xmlns=\"http://www.w3.org/2000/svg\" xmlns:xlink=\"http://www.w3.org/1999/xlink\">\n",
       "<g id=\"graph0\" class=\"graph\" transform=\"scale(1 1) rotate(0) translate(4 318)\">\n",
       "<title>exp2_50_100</title>\n",
       "<polygon fill=\"white\" stroke=\"none\" points=\"-4,4 -4,-318 1180,-318 1180,4 -4,4\"/>\n",
       "<!-- n50random_text -->\n",
       "<g id=\"node1\" class=\"node\"><title>n50random_text</title>\n",
       "<path fill=\"LightCyan\" stroke=\"black\" d=\"M364,-210C364,-210 269,-210 269,-210 263,-210 257,-204 257,-198 257,-198 257,-186 257,-186 257,-180 263,-174 269,-174 269,-174 364,-174 364,-174 370,-174 376,-180 376,-186 376,-186 376,-198 376,-198 376,-204 370,-210 364,-210\"/>\n",
       "<text text-anchor=\"middle\" x=\"316.5\" y=\"-188.3\" font-family=\"Roboto\" font-size=\"14.00\">n50random_text</text>\n",
       "</g>\n",
       "<!-- n50word_freq -->\n",
       "<g id=\"node5\" class=\"node\"><title>n50word_freq</title>\n",
       "<path fill=\"LightCyan\" stroke=\"black\" d=\"M226.5,-123C226.5,-123 146.5,-123 146.5,-123 140.5,-123 134.5,-117 134.5,-111 134.5,-111 134.5,-99 134.5,-99 134.5,-93 140.5,-87 146.5,-87 146.5,-87 226.5,-87 226.5,-87 232.5,-87 238.5,-93 238.5,-99 238.5,-99 238.5,-111 238.5,-111 238.5,-117 232.5,-123 226.5,-123\"/>\n",
       "<text text-anchor=\"middle\" x=\"186.5\" y=\"-101.3\" font-family=\"Roboto\" font-size=\"14.00\">n50word_freq</text>\n",
       "</g>\n",
       "<!-- n50random_text&#45;&gt;n50word_freq -->\n",
       "<g id=\"edge5\" class=\"edge\"><title>n50random_text&#45;&gt;n50word_freq</title>\n",
       "<path fill=\"none\" stroke=\"black\" d=\"M290.193,-173.799C270.369,-160.838 242.997,-142.941 221.353,-128.789\"/>\n",
       "<polygon fill=\"black\" stroke=\"black\" points=\"223.053,-125.719 212.768,-123.175 219.223,-131.577 223.053,-125.719\"/>\n",
       "<text text-anchor=\"middle\" x=\"306.5\" y=\"-144.8\" font-family=\"Roboto\" font-size=\"14.00\">input_resource</text>\n",
       "</g>\n",
       "<!-- __xyz0 -->\n",
       "<g id=\"node2\" class=\"node\"><title>__xyz0</title>\n",
       "<polygon fill=\"Beige\" stroke=\"black\" stroke-dasharray=\"1,5\" points=\"271,-305.5 60,-305.5 60,-269.5 271,-269.5 271,-305.5\"/>\n",
       "<text text-anchor=\"middle\" x=\"165.5\" y=\"-283.8\" font-family=\"Helvetica,sans-Serif\" font-size=\"14.00\">FSResource(50&#45;random&#45;text.txt)</text>\n",
       "</g>\n",
       "<!-- __xyz0&#45;&gt;n50random_text -->\n",
       "<g id=\"edge1\" class=\"edge\"><title>__xyz0&#45;&gt;n50random_text</title>\n",
       "<path fill=\"none\" stroke=\"black\" d=\"M193.196,-269.351C217.674,-254.194 253.541,-231.985 280.288,-215.423\"/>\n",
       "<polygon fill=\"black\" stroke=\"black\" points=\"282.32,-218.281 288.98,-210.041 278.635,-212.329 282.32,-218.281\"/>\n",
       "<text text-anchor=\"middle\" x=\"282.5\" y=\"-231.8\" font-family=\"Times,serif\" font-size=\"14.00\">resource</text>\n",
       "</g>\n",
       "<!-- __xyz1 -->\n",
       "<g id=\"node3\" class=\"node\"><title>__xyz1</title>\n",
       "<polygon fill=\"Beige\" stroke=\"black\" stroke-dasharray=\"1,5\" points=\"344,-305.5 289,-305.5 289,-269.5 344,-269.5 344,-305.5\"/>\n",
       "<text text-anchor=\"middle\" x=\"316.5\" y=\"-283.8\" font-family=\"Helvetica,sans-Serif\" font-size=\"14.00\">int(50)</text>\n",
       "</g>\n",
       "<!-- __xyz1&#45;&gt;n50random_text -->\n",
       "<g id=\"edge2\" class=\"edge\"><title>__xyz1&#45;&gt;n50random_text</title>\n",
       "<path fill=\"none\" stroke=\"black\" d=\"M316.5,-269.351C316.5,-255.643 316.5,-236.169 316.5,-220.319\"/>\n",
       "<polygon fill=\"black\" stroke=\"black\" points=\"320,-220.041 316.5,-210.041 313,-220.041 320,-220.041\"/>\n",
       "<text text-anchor=\"middle\" x=\"363.5\" y=\"-231.8\" font-family=\"Roboto\" font-size=\"14.00\">num_of_words</text>\n",
       "</g>\n",
       "<!-- __xyz2 -->\n",
       "<g id=\"node4\" class=\"node\"><title>__xyz2</title>\n",
       "<polygon fill=\"Beige\" stroke=\"black\" stroke-dasharray=\"1,5\" points=\"609,-314 362,-314 362,-261 609,-261 609,-314\"/>\n",
       "<text text-anchor=\"middle\" x=\"485.5\" y=\"-298.8\" font-family=\"Helvetica,sans-Serif\" font-size=\"14.00\">list([&#39;lorem&#39;, &#39;ipsum&#39;, &#39;dolor&#39;, &#39;sit&#39;, &#39;amet&#39;</text>\n",
       "<text text-anchor=\"middle\" x=\"485.5\" y=\"-283.8\" font-family=\"Helvetica,sans-Serif\" font-size=\"14.00\">, &#39;consectetur&#39;, &#39;adipiscing&#39;, &#39;elit&#39;, &#39;v</text>\n",
       "<text text-anchor=\"middle\" x=\"485.5\" y=\"-268.8\" font-family=\"Helvetica,sans-Serif\" font-size=\"14.00\">estibulum&#39;, &#39;non&#39;, &#39;feugiat&#39;, &#39;felis&#39;])</text>\n",
       "</g>\n",
       "<!-- __xyz2&#45;&gt;n50random_text -->\n",
       "<g id=\"edge3\" class=\"edge\"><title>__xyz2&#45;&gt;n50random_text</title>\n",
       "<path fill=\"none\" stroke=\"black\" d=\"M458.816,-260.764C446.148,-249.569 430.336,-236.985 414.5,-228 405.056,-222.642 394.645,-217.87 384.241,-213.705\"/>\n",
       "<polygon fill=\"black\" stroke=\"black\" points=\"385.307,-210.365 374.717,-210.051 382.8,-216.901 385.307,-210.365\"/>\n",
       "<text text-anchor=\"middle\" x=\"486.5\" y=\"-231.8\" font-family=\"Roboto\" font-size=\"14.00\">selected_words</text>\n",
       "</g>\n",
       "<!-- n50kmost_freq -->\n",
       "<g id=\"node7\" class=\"node\"><title>n50kmost_freq</title>\n",
       "<path fill=\"LightCyan\" stroke=\"black\" d=\"M158,-36C158,-36 69,-36 69,-36 63,-36 57,-30 57,-24 57,-24 57,-12 57,-12 57,-6 63,-0 69,-0 69,-0 158,-0 158,-0 164,-0 170,-6 170,-12 170,-12 170,-24 170,-24 170,-30 164,-36 158,-36\"/>\n",
       "<text text-anchor=\"middle\" x=\"113.5\" y=\"-14.3\" font-family=\"Roboto\" font-size=\"14.00\">n50kmost_freq</text>\n",
       "</g>\n",
       "<!-- n50word_freq&#45;&gt;n50kmost_freq -->\n",
       "<g id=\"edge6\" class=\"edge\"><title>n50word_freq&#45;&gt;n50kmost_freq</title>\n",
       "<path fill=\"none\" stroke=\"black\" d=\"M171.727,-86.799C161.14,-74.4713 146.718,-57.6787 134.876,-43.8902\"/>\n",
       "<polygon fill=\"black\" stroke=\"black\" points=\"137.421,-41.4814 128.251,-36.1754 132.111,-46.0421 137.421,-41.4814\"/>\n",
       "<text text-anchor=\"middle\" x=\"186.5\" y=\"-57.8\" font-family=\"Roboto\" font-size=\"14.00\">word_freq</text>\n",
       "</g>\n",
       "<!-- __xyz3 -->\n",
       "<g id=\"node6\" class=\"node\"><title>__xyz3</title>\n",
       "<polygon fill=\"Beige\" stroke=\"black\" stroke-dasharray=\"1,5\" points=\"239,-210 0,-210 0,-174 239,-174 239,-210\"/>\n",
       "<text text-anchor=\"middle\" x=\"119.5\" y=\"-188.3\" font-family=\"Helvetica,sans-Serif\" font-size=\"14.00\">FSResource(50&#45;random&#45;text&#45;freq.txt)</text>\n",
       "</g>\n",
       "<!-- __xyz3&#45;&gt;n50word_freq -->\n",
       "<g id=\"edge4\" class=\"edge\"><title>__xyz3&#45;&gt;n50word_freq</title>\n",
       "<path fill=\"none\" stroke=\"black\" d=\"M133.058,-173.799C142.685,-161.587 155.765,-144.992 166.575,-131.278\"/>\n",
       "<polygon fill=\"black\" stroke=\"black\" points=\"169.52,-133.196 172.962,-123.175 164.022,-128.862 169.52,-133.196\"/>\n",
       "<text text-anchor=\"middle\" x=\"180.5\" y=\"-144.8\" font-family=\"Times,serif\" font-size=\"14.00\">resource</text>\n",
       "</g>\n",
       "<!-- __xyz4 -->\n",
       "<g id=\"node8\" class=\"node\"><title>__xyz4</title>\n",
       "<polygon fill=\"Beige\" stroke=\"black\" stroke-dasharray=\"1,5\" points=\"116,-123 61,-123 61,-87 116,-87 116,-123\"/>\n",
       "<text text-anchor=\"middle\" x=\"88.5\" y=\"-101.3\" font-family=\"Helvetica,sans-Serif\" font-size=\"14.00\">int(10)</text>\n",
       "</g>\n",
       "<!-- __xyz4&#45;&gt;n50kmost_freq -->\n",
       "<g id=\"edge7\" class=\"edge\"><title>__xyz4&#45;&gt;n50kmost_freq</title>\n",
       "<path fill=\"none\" stroke=\"black\" d=\"M93.5591,-86.799C97.0155,-75.0474 101.665,-59.2383 105.605,-45.8421\"/>\n",
       "<polygon fill=\"black\" stroke=\"black\" points=\"108.984,-46.7567 108.448,-36.1754 102.269,-44.7815 108.984,-46.7567\"/>\n",
       "<text text-anchor=\"middle\" x=\"107.5\" y=\"-57.8\" font-family=\"Roboto\" font-size=\"14.00\">K</text>\n",
       "</g>\n",
       "<!-- n100random_text -->\n",
       "<g id=\"node9\" class=\"node\"><title>n100random_text</title>\n",
       "<path fill=\"LightCyan\" stroke=\"black\" d=\"M935.5,-210C935.5,-210 831.5,-210 831.5,-210 825.5,-210 819.5,-204 819.5,-198 819.5,-198 819.5,-186 819.5,-186 819.5,-180 825.5,-174 831.5,-174 831.5,-174 935.5,-174 935.5,-174 941.5,-174 947.5,-180 947.5,-186 947.5,-186 947.5,-198 947.5,-198 947.5,-204 941.5,-210 935.5,-210\"/>\n",
       "<text text-anchor=\"middle\" x=\"883.5\" y=\"-188.3\" font-family=\"Roboto\" font-size=\"14.00\">n100random_text</text>\n",
       "</g>\n",
       "<!-- n100word_freq -->\n",
       "<g id=\"node13\" class=\"node\"><title>n100word_freq</title>\n",
       "<path fill=\"LightCyan\" stroke=\"black\" d=\"M760,-123C760,-123 671,-123 671,-123 665,-123 659,-117 659,-111 659,-111 659,-99 659,-99 659,-93 665,-87 671,-87 671,-87 760,-87 760,-87 766,-87 772,-93 772,-99 772,-99 772,-111 772,-111 772,-117 766,-123 760,-123\"/>\n",
       "<text text-anchor=\"middle\" x=\"715.5\" y=\"-101.3\" font-family=\"Roboto\" font-size=\"14.00\">n100word_freq</text>\n",
       "</g>\n",
       "<!-- n100random_text&#45;&gt;n100word_freq -->\n",
       "<g id=\"edge12\" class=\"edge\"><title>n100random_text&#45;&gt;n100word_freq</title>\n",
       "<path fill=\"none\" stroke=\"black\" d=\"M849.503,-173.799C823.23,-160.506 786.695,-142.021 758.409,-127.71\"/>\n",
       "<polygon fill=\"black\" stroke=\"black\" points=\"759.663,-124.422 749.16,-123.03 756.502,-130.668 759.663,-124.422\"/>\n",
       "<text text-anchor=\"middle\" x=\"856.5\" y=\"-144.8\" font-family=\"Roboto\" font-size=\"14.00\">input_resource</text>\n",
       "</g>\n",
       "<!-- __xyz5 -->\n",
       "<g id=\"node10\" class=\"node\"><title>__xyz5</title>\n",
       "<polygon fill=\"Beige\" stroke=\"black\" stroke-dasharray=\"1,5\" points=\"838,-305.5 627,-305.5 627,-269.5 838,-269.5 838,-305.5\"/>\n",
       "<text text-anchor=\"middle\" x=\"732.5\" y=\"-283.8\" font-family=\"Helvetica,sans-Serif\" font-size=\"14.00\">FSResource(50&#45;random&#45;text.txt)</text>\n",
       "</g>\n",
       "<!-- __xyz5&#45;&gt;n100random_text -->\n",
       "<g id=\"edge8\" class=\"edge\"><title>__xyz5&#45;&gt;n100random_text</title>\n",
       "<path fill=\"none\" stroke=\"black\" d=\"M760.196,-269.351C784.674,-254.194 820.541,-231.985 847.288,-215.423\"/>\n",
       "<polygon fill=\"black\" stroke=\"black\" points=\"849.32,-218.281 855.98,-210.041 845.635,-212.329 849.32,-218.281\"/>\n",
       "<text text-anchor=\"middle\" x=\"848.5\" y=\"-231.8\" font-family=\"Times,serif\" font-size=\"14.00\">resource</text>\n",
       "</g>\n",
       "<!-- __xyz6 -->\n",
       "<g id=\"node11\" class=\"node\"><title>__xyz6</title>\n",
       "<polygon fill=\"Beige\" stroke=\"black\" stroke-dasharray=\"1,5\" points=\"911,-305.5 856,-305.5 856,-269.5 911,-269.5 911,-305.5\"/>\n",
       "<text text-anchor=\"middle\" x=\"883.5\" y=\"-283.8\" font-family=\"Helvetica,sans-Serif\" font-size=\"14.00\">int(50)</text>\n",
       "</g>\n",
       "<!-- __xyz6&#45;&gt;n100random_text -->\n",
       "<g id=\"edge9\" class=\"edge\"><title>__xyz6&#45;&gt;n100random_text</title>\n",
       "<path fill=\"none\" stroke=\"black\" d=\"M883.5,-269.351C883.5,-255.643 883.5,-236.169 883.5,-220.319\"/>\n",
       "<polygon fill=\"black\" stroke=\"black\" points=\"887,-220.041 883.5,-210.041 880,-220.041 887,-220.041\"/>\n",
       "<text text-anchor=\"middle\" x=\"930.5\" y=\"-231.8\" font-family=\"Roboto\" font-size=\"14.00\">num_of_words</text>\n",
       "</g>\n",
       "<!-- __xyz7 -->\n",
       "<g id=\"node12\" class=\"node\"><title>__xyz7</title>\n",
       "<polygon fill=\"Beige\" stroke=\"black\" stroke-dasharray=\"1,5\" points=\"1176,-314 929,-314 929,-261 1176,-261 1176,-314\"/>\n",
       "<text text-anchor=\"middle\" x=\"1052.5\" y=\"-298.8\" font-family=\"Helvetica,sans-Serif\" font-size=\"14.00\">list([&#39;lorem&#39;, &#39;ipsum&#39;, &#39;dolor&#39;, &#39;sit&#39;, &#39;amet&#39;</text>\n",
       "<text text-anchor=\"middle\" x=\"1052.5\" y=\"-283.8\" font-family=\"Helvetica,sans-Serif\" font-size=\"14.00\">, &#39;consectetur&#39;, &#39;adipiscing&#39;, &#39;elit&#39;, &#39;v</text>\n",
       "<text text-anchor=\"middle\" x=\"1052.5\" y=\"-268.8\" font-family=\"Helvetica,sans-Serif\" font-size=\"14.00\">estibulum&#39;, &#39;non&#39;, &#39;feugiat&#39;, &#39;felis&#39;])</text>\n",
       "</g>\n",
       "<!-- __xyz7&#45;&gt;n100random_text -->\n",
       "<g id=\"edge10\" class=\"edge\"><title>__xyz7&#45;&gt;n100random_text</title>\n",
       "<path fill=\"none\" stroke=\"black\" d=\"M1025.82,-260.764C1013.15,-249.569 997.336,-236.985 981.5,-228 972.056,-222.642 961.645,-217.87 951.241,-213.705\"/>\n",
       "<polygon fill=\"black\" stroke=\"black\" points=\"952.307,-210.365 941.717,-210.051 949.8,-216.901 952.307,-210.365\"/>\n",
       "<text text-anchor=\"middle\" x=\"1052.5\" y=\"-231.8\" font-family=\"Roboto\" font-size=\"14.00\">selected_words</text>\n",
       "</g>\n",
       "<!-- n100kmost_freq -->\n",
       "<g id=\"node15\" class=\"node\"><title>n100kmost_freq</title>\n",
       "<path fill=\"LightCyan\" stroke=\"black\" d=\"M678.5,-36C678.5,-36 580.5,-36 580.5,-36 574.5,-36 568.5,-30 568.5,-24 568.5,-24 568.5,-12 568.5,-12 568.5,-6 574.5,-0 580.5,-0 580.5,-0 678.5,-0 678.5,-0 684.5,-0 690.5,-6 690.5,-12 690.5,-12 690.5,-24 690.5,-24 690.5,-30 684.5,-36 678.5,-36\"/>\n",
       "<text text-anchor=\"middle\" x=\"629.5\" y=\"-14.3\" font-family=\"Roboto\" font-size=\"14.00\">n100kmost_freq</text>\n",
       "</g>\n",
       "<!-- n100word_freq&#45;&gt;n100kmost_freq -->\n",
       "<g id=\"edge13\" class=\"edge\"><title>n100word_freq&#45;&gt;n100kmost_freq</title>\n",
       "<path fill=\"none\" stroke=\"black\" d=\"M698.097,-86.799C685.507,-74.3561 668.316,-57.3644 654.293,-43.5044\"/>\n",
       "<polygon fill=\"black\" stroke=\"black\" points=\"656.45,-40.7157 646.878,-36.1754 651.529,-45.6944 656.45,-40.7157\"/>\n",
       "<text text-anchor=\"middle\" x=\"710.5\" y=\"-57.8\" font-family=\"Roboto\" font-size=\"14.00\">word_freq</text>\n",
       "</g>\n",
       "<!-- __xyz8 -->\n",
       "<g id=\"node14\" class=\"node\"><title>__xyz8</title>\n",
       "<polygon fill=\"Beige\" stroke=\"black\" stroke-dasharray=\"1,5\" points=\"801,-210 562,-210 562,-174 801,-174 801,-210\"/>\n",
       "<text text-anchor=\"middle\" x=\"681.5\" y=\"-188.3\" font-family=\"Helvetica,sans-Serif\" font-size=\"14.00\">FSResource(50&#45;random&#45;text&#45;freq.txt)</text>\n",
       "</g>\n",
       "<!-- __xyz8&#45;&gt;n100word_freq -->\n",
       "<g id=\"edge11\" class=\"edge\"><title>__xyz8&#45;&gt;n100word_freq</title>\n",
       "<path fill=\"none\" stroke=\"black\" d=\"M688.38,-173.799C693.081,-162.047 699.405,-146.238 704.763,-132.842\"/>\n",
       "<polygon fill=\"black\" stroke=\"black\" points=\"708.166,-133.76 708.63,-123.175 701.666,-131.16 708.166,-133.76\"/>\n",
       "<text text-anchor=\"middle\" x=\"724.5\" y=\"-144.8\" font-family=\"Times,serif\" font-size=\"14.00\">resource</text>\n",
       "</g>\n",
       "<!-- __xyz9 -->\n",
       "<g id=\"node16\" class=\"node\"><title>__xyz9</title>\n",
       "<polygon fill=\"Beige\" stroke=\"black\" stroke-dasharray=\"1,5\" points=\"641,-123 586,-123 586,-87 641,-87 641,-123\"/>\n",
       "<text text-anchor=\"middle\" x=\"613.5\" y=\"-101.3\" font-family=\"Helvetica,sans-Serif\" font-size=\"14.00\">int(10)</text>\n",
       "</g>\n",
       "<!-- __xyz9&#45;&gt;n100kmost_freq -->\n",
       "<g id=\"edge14\" class=\"edge\"><title>__xyz9&#45;&gt;n100kmost_freq</title>\n",
       "<path fill=\"none\" stroke=\"black\" d=\"M616.738,-86.799C618.928,-75.1626 621.867,-59.5479 624.373,-46.2368\"/>\n",
       "<polygon fill=\"black\" stroke=\"black\" points=\"627.857,-46.6503 626.267,-36.1754 620.977,-45.3554 627.857,-46.6503\"/>\n",
       "<text text-anchor=\"middle\" x=\"627.5\" y=\"-57.8\" font-family=\"Roboto\" font-size=\"14.00\">K</text>\n",
       "</g>\n",
       "</g>\n",
       "</svg>\n"
      ],
      "text/plain": [
       "<graphviz.files.Source at 0x7f5f3beb9160>"
      ]
     },
     "execution_count": 45,
     "metadata": {},
     "output_type": "execute_result"
    }
   ],
   "source": [
    "exp2_50_100 = rflow.get_graph('exp2_50_100', overwrite=True)\n",
    "\n",
    "_sub_graph(exp2_50_100.prefix('n50'), 50)\n",
    "_sub_graph(exp2_50_100.prefix('n100'), 50)\n",
    "viz.dag2dot(exp2_50_100)"
   ]
  }
 ],
 "metadata": {
  "kernelspec": {
   "display_name": "Python 3",
   "language": "python",
   "name": "python3"
  },
  "language_info": {
   "codemirror_mode": {
    "name": "ipython",
    "version": 3
   },
   "file_extension": ".py",
   "mimetype": "text/x-python",
   "name": "python",
   "nbconvert_exporter": "python",
   "pygments_lexer": "ipython3",
   "version": "3.6.3"
  }
 },
 "nbformat": 4,
 "nbformat_minor": 2
}
